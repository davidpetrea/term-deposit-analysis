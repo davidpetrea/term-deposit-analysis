{
 "cells": [
  {
   "cell_type": "code",
   "execution_count": 1,
   "metadata": {},
   "outputs": [
    {
     "name": "stdout",
     "output_type": "stream",
     "text": [
      "<class 'pandas.core.frame.DataFrame'>\n",
      "RangeIndex: 51190 entries, 0 to 51189\n",
      "Data columns (total 53 columns):\n",
      " #   Column                         Non-Null Count  Dtype  \n",
      "---  ------                         --------------  -----  \n",
      " 0   age                            51190 non-null  float64\n",
      " 1   job_blue-collar                51190 non-null  float64\n",
      " 2   job_services                   51190 non-null  float64\n",
      " 3   job_entrepreneur               51190 non-null  float64\n",
      " 4   job_admin.                     51190 non-null  float64\n",
      " 5   job_management                 51190 non-null  float64\n",
      " 6   job_technician                 51190 non-null  float64\n",
      " 7   job_housemaid                  51190 non-null  float64\n",
      " 8   job_unemployed                 51190 non-null  float64\n",
      " 9   job_retired                    51190 non-null  float64\n",
      " 10  job_student                    51190 non-null  float64\n",
      " 11  job_self-employed              51190 non-null  float64\n",
      " 12  marital_married                51190 non-null  float64\n",
      " 13  marital_single                 51190 non-null  float64\n",
      " 14  marital_divorced               51190 non-null  float64\n",
      " 15  education_basic.6y             51190 non-null  float64\n",
      " 16  education_university.degree    51190 non-null  float64\n",
      " 17  education_high.school          51190 non-null  float64\n",
      " 18  education_professional.course  51190 non-null  float64\n",
      " 19  education_unknown              51190 non-null  float64\n",
      " 20  education_basic.4y             51190 non-null  float64\n",
      " 21  education_basic.9y             51190 non-null  float64\n",
      " 22  default                        51190 non-null  float64\n",
      " 23  housing                        51190 non-null  float64\n",
      " 24  loan_no                        51190 non-null  float64\n",
      " 25  loan_unknown                   51190 non-null  float64\n",
      " 26  loan_yes                       51190 non-null  float64\n",
      " 27  contact                        51190 non-null  float64\n",
      " 28  month_may                      51190 non-null  float64\n",
      " 29  month_nov                      51190 non-null  float64\n",
      " 30  month_jul                      51190 non-null  float64\n",
      " 31  month_aug                      51190 non-null  float64\n",
      " 32  month_jun                      51190 non-null  float64\n",
      " 33  month_apr                      51190 non-null  float64\n",
      " 34  month_mar                      51190 non-null  float64\n",
      " 35  month_sep                      51190 non-null  float64\n",
      " 36  month_dec                      51190 non-null  float64\n",
      " 37  month_oct                      51190 non-null  float64\n",
      " 38  day_of_week_thu                51190 non-null  float64\n",
      " 39  day_of_week_fri                51190 non-null  float64\n",
      " 40  day_of_week_mon                51190 non-null  float64\n",
      " 41  day_of_week_tue                51190 non-null  float64\n",
      " 42  day_of_week_wed                51190 non-null  float64\n",
      " 43  campaign                       51190 non-null  float64\n",
      " 44  contacted_before               51190 non-null  float64\n",
      " 45  previous                       51190 non-null  float64\n",
      " 46  poutcome_nonexistent           51190 non-null  float64\n",
      " 47  poutcome_failure               51190 non-null  float64\n",
      " 48  poutcome_success               51190 non-null  float64\n",
      " 49  emp.var.rate                   51190 non-null  float64\n",
      " 50  cons.price.idx                 51190 non-null  float64\n",
      " 51  cons.conf.idx                  51190 non-null  float64\n",
      " 52  nr.employed                    51190 non-null  float64\n",
      "dtypes: float64(53)\n",
      "memory usage: 20.7 MB\n"
     ]
    }
   ],
   "source": [
    "import numpy as np\n",
    "import pandas as pd\n",
    "import math\n",
    "from sklearn.model_selection import train_test_split, GridSearchCV, RandomizedSearchCV\n",
    "from sklearn.metrics import classification_report, confusion_matrix, roc_auc_score, auc, f1_score, accuracy_score, precision_score, recall_score, roc_curve, precision_recall_curve \n",
    "from imblearn.over_sampling import SMOTE\n",
    "from sklearn.compose import ColumnTransformer\n",
    "from sklearn.preprocessing import OneHotEncoder\n",
    "from sklearn.pipeline import make_pipeline\n",
    "from sklearn.linear_model import LogisticRegression\n",
    "\n",
    "data = pd.read_csv('data/model_data.csv')\n",
    "\n",
    "X_train = pd.read_csv('data/X_train_transformed.csv')\n",
    "X_test = pd.read_csv('data/X_test_transformed.csv')\n",
    "y_train = pd.read_csv('data/y_train_transformed.csv')\n",
    "y_test = pd.read_csv('data/y_test_transformed.csv')\n",
    "\n",
    "#this step is necessary because we are using the already splot data inside the pycaret setup, and indexes must not overlap on the train and test data sets\n",
    "\n",
    "#combine balanced train data back into a single df\n",
    "X_train['subscribed'] = y_train\n",
    "train_data = X_train\n",
    "\n",
    "#combine test data back into a single df\n",
    "X_test['subscribed'] = y_test\n",
    "test_data = X_test.set_index( np.arange(len(X_train), len(X_train)+len(X_test)))\n",
    "\n",
    "X=train_data.drop(labels=['subscribed'], axis=1)\n",
    "y=train_data['subscribed']\n",
    "\n",
    "X.info()"
   ]
  },
  {
   "cell_type": "code",
   "execution_count": 2,
   "metadata": {},
   "outputs": [
    {
     "data": {
      "text/html": [
       "<style type=\"text/css\">\n",
       "#T_6668d_row8_col1 {\n",
       "  background-color: lightgreen;\n",
       "}\n",
       "</style>\n",
       "<table id=\"T_6668d_\">\n",
       "  <thead>\n",
       "    <tr>\n",
       "      <th class=\"blank level0\" >&nbsp;</th>\n",
       "      <th class=\"col_heading level0 col0\" >Description</th>\n",
       "      <th class=\"col_heading level0 col1\" >Value</th>\n",
       "    </tr>\n",
       "  </thead>\n",
       "  <tbody>\n",
       "    <tr>\n",
       "      <th id=\"T_6668d_level0_row0\" class=\"row_heading level0 row0\" >0</th>\n",
       "      <td id=\"T_6668d_row0_col0\" class=\"data row0 col0\" >Session id</td>\n",
       "      <td id=\"T_6668d_row0_col1\" class=\"data row0 col1\" >420</td>\n",
       "    </tr>\n",
       "    <tr>\n",
       "      <th id=\"T_6668d_level0_row1\" class=\"row_heading level0 row1\" >1</th>\n",
       "      <td id=\"T_6668d_row1_col0\" class=\"data row1 col0\" >Target</td>\n",
       "      <td id=\"T_6668d_row1_col1\" class=\"data row1 col1\" >subscribed</td>\n",
       "    </tr>\n",
       "    <tr>\n",
       "      <th id=\"T_6668d_level0_row2\" class=\"row_heading level0 row2\" >2</th>\n",
       "      <td id=\"T_6668d_row2_col0\" class=\"data row2 col0\" >Target type</td>\n",
       "      <td id=\"T_6668d_row2_col1\" class=\"data row2 col1\" >Binary</td>\n",
       "    </tr>\n",
       "    <tr>\n",
       "      <th id=\"T_6668d_level0_row3\" class=\"row_heading level0 row3\" >3</th>\n",
       "      <td id=\"T_6668d_row3_col0\" class=\"data row3 col0\" >Original data shape</td>\n",
       "      <td id=\"T_6668d_row3_col1\" class=\"data row3 col1\" >(63546, 54)</td>\n",
       "    </tr>\n",
       "    <tr>\n",
       "      <th id=\"T_6668d_level0_row4\" class=\"row_heading level0 row4\" >4</th>\n",
       "      <td id=\"T_6668d_row4_col0\" class=\"data row4 col0\" >Transformed data shape</td>\n",
       "      <td id=\"T_6668d_row4_col1\" class=\"data row4 col1\" >(63546, 54)</td>\n",
       "    </tr>\n",
       "    <tr>\n",
       "      <th id=\"T_6668d_level0_row5\" class=\"row_heading level0 row5\" >5</th>\n",
       "      <td id=\"T_6668d_row5_col0\" class=\"data row5 col0\" >Transformed train set shape</td>\n",
       "      <td id=\"T_6668d_row5_col1\" class=\"data row5 col1\" >(51190, 54)</td>\n",
       "    </tr>\n",
       "    <tr>\n",
       "      <th id=\"T_6668d_level0_row6\" class=\"row_heading level0 row6\" >6</th>\n",
       "      <td id=\"T_6668d_row6_col0\" class=\"data row6 col0\" >Transformed test set shape</td>\n",
       "      <td id=\"T_6668d_row6_col1\" class=\"data row6 col1\" >(12356, 54)</td>\n",
       "    </tr>\n",
       "    <tr>\n",
       "      <th id=\"T_6668d_level0_row7\" class=\"row_heading level0 row7\" >7</th>\n",
       "      <td id=\"T_6668d_row7_col0\" class=\"data row7 col0\" >Numeric features</td>\n",
       "      <td id=\"T_6668d_row7_col1\" class=\"data row7 col1\" >53</td>\n",
       "    </tr>\n",
       "    <tr>\n",
       "      <th id=\"T_6668d_level0_row8\" class=\"row_heading level0 row8\" >8</th>\n",
       "      <td id=\"T_6668d_row8_col0\" class=\"data row8 col0\" >Preprocess</td>\n",
       "      <td id=\"T_6668d_row8_col1\" class=\"data row8 col1\" >True</td>\n",
       "    </tr>\n",
       "    <tr>\n",
       "      <th id=\"T_6668d_level0_row9\" class=\"row_heading level0 row9\" >9</th>\n",
       "      <td id=\"T_6668d_row9_col0\" class=\"data row9 col0\" >Imputation type</td>\n",
       "      <td id=\"T_6668d_row9_col1\" class=\"data row9 col1\" >simple</td>\n",
       "    </tr>\n",
       "    <tr>\n",
       "      <th id=\"T_6668d_level0_row10\" class=\"row_heading level0 row10\" >10</th>\n",
       "      <td id=\"T_6668d_row10_col0\" class=\"data row10 col0\" >Numeric imputation</td>\n",
       "      <td id=\"T_6668d_row10_col1\" class=\"data row10 col1\" >mean</td>\n",
       "    </tr>\n",
       "    <tr>\n",
       "      <th id=\"T_6668d_level0_row11\" class=\"row_heading level0 row11\" >11</th>\n",
       "      <td id=\"T_6668d_row11_col0\" class=\"data row11 col0\" >Categorical imputation</td>\n",
       "      <td id=\"T_6668d_row11_col1\" class=\"data row11 col1\" >mode</td>\n",
       "    </tr>\n",
       "    <tr>\n",
       "      <th id=\"T_6668d_level0_row12\" class=\"row_heading level0 row12\" >12</th>\n",
       "      <td id=\"T_6668d_row12_col0\" class=\"data row12 col0\" >Fold Generator</td>\n",
       "      <td id=\"T_6668d_row12_col1\" class=\"data row12 col1\" >StratifiedKFold</td>\n",
       "    </tr>\n",
       "    <tr>\n",
       "      <th id=\"T_6668d_level0_row13\" class=\"row_heading level0 row13\" >13</th>\n",
       "      <td id=\"T_6668d_row13_col0\" class=\"data row13 col0\" >Fold Number</td>\n",
       "      <td id=\"T_6668d_row13_col1\" class=\"data row13 col1\" >10</td>\n",
       "    </tr>\n",
       "    <tr>\n",
       "      <th id=\"T_6668d_level0_row14\" class=\"row_heading level0 row14\" >14</th>\n",
       "      <td id=\"T_6668d_row14_col0\" class=\"data row14 col0\" >CPU Jobs</td>\n",
       "      <td id=\"T_6668d_row14_col1\" class=\"data row14 col1\" >-1</td>\n",
       "    </tr>\n",
       "    <tr>\n",
       "      <th id=\"T_6668d_level0_row15\" class=\"row_heading level0 row15\" >15</th>\n",
       "      <td id=\"T_6668d_row15_col0\" class=\"data row15 col0\" >Use GPU</td>\n",
       "      <td id=\"T_6668d_row15_col1\" class=\"data row15 col1\" >False</td>\n",
       "    </tr>\n",
       "    <tr>\n",
       "      <th id=\"T_6668d_level0_row16\" class=\"row_heading level0 row16\" >16</th>\n",
       "      <td id=\"T_6668d_row16_col0\" class=\"data row16 col0\" >Log Experiment</td>\n",
       "      <td id=\"T_6668d_row16_col1\" class=\"data row16 col1\" >False</td>\n",
       "    </tr>\n",
       "    <tr>\n",
       "      <th id=\"T_6668d_level0_row17\" class=\"row_heading level0 row17\" >17</th>\n",
       "      <td id=\"T_6668d_row17_col0\" class=\"data row17 col0\" >Experiment Name</td>\n",
       "      <td id=\"T_6668d_row17_col1\" class=\"data row17 col1\" >clf-default-name</td>\n",
       "    </tr>\n",
       "    <tr>\n",
       "      <th id=\"T_6668d_level0_row18\" class=\"row_heading level0 row18\" >18</th>\n",
       "      <td id=\"T_6668d_row18_col0\" class=\"data row18 col0\" >USI</td>\n",
       "      <td id=\"T_6668d_row18_col1\" class=\"data row18 col1\" >7fd3</td>\n",
       "    </tr>\n",
       "  </tbody>\n",
       "</table>\n"
      ],
      "text/plain": [
       "<pandas.io.formats.style.Styler at 0x29738ff6d60>"
      ]
     },
     "metadata": {},
     "output_type": "display_data"
    }
   ],
   "source": [
    "from pycaret.classification import *\n",
    "s = (setup( data=train_data,\n",
    "            target = 'subscribed',\n",
    "            test_data=test_data,\n",
    "            fold=10,\n",
    "            session_id = 420,\n",
    "            ))"
   ]
  },
  {
   "cell_type": "code",
   "execution_count": null,
   "metadata": {},
   "outputs": [],
   "source": [
    "from sklearn.ensemble import RandomForestClassifier\n",
    "clf = RandomForestClassifier(random_state=420, n_jobs=-1,n_estimators=64, max_depth=3, min_samples_split=0.1, min_samples_leaf=0.05,criterion='gini' )\n",
    "\n",
    "rf = create_model(clf)\n",
    "\n",
    "#tuned_rf = tune_model(rf, n_iter=5, custom_grid = parameters)\n",
    "#calibrated_rf = calibrate_model(rf)\n",
    "#evaluate_model(rf)"
   ]
  },
  {
   "cell_type": "code",
   "execution_count": null,
   "metadata": {},
   "outputs": [],
   "source": [
    "save_model(rf,'saved_rf_model')"
   ]
  },
  {
   "cell_type": "code",
   "execution_count": 3,
   "metadata": {},
   "outputs": [
    {
     "name": "stdout",
     "output_type": "stream",
     "text": [
      "Transformation Pipeline and Model Successfully Loaded\n"
     ]
    }
   ],
   "source": [
    "\n",
    "rf = load_model('saved_rf_model')"
   ]
  },
  {
   "cell_type": "code",
   "execution_count": 4,
   "metadata": {},
   "outputs": [
    {
     "data": {
      "application/vnd.jupyter.widget-view+json": {
       "model_id": "2dfcb4334ec149b7849b7b553bc0a560",
       "version_major": 2,
       "version_minor": 0
      },
      "text/plain": [
       "interactive(children=(ToggleButtons(description='Plot Type:', icons=('',), options=(('Pipeline Plot', 'pipelin…"
      ]
     },
     "metadata": {},
     "output_type": "display_data"
    }
   ],
   "source": [
    "evaluate_model(rf)"
   ]
  },
  {
   "cell_type": "code",
   "execution_count": 13,
   "metadata": {},
   "outputs": [
    {
     "data": {
      "text/html": [
       "<style type=\"text/css\">\n",
       "</style>\n",
       "<table id=\"T_7bcd2_\">\n",
       "  <thead>\n",
       "    <tr>\n",
       "      <th class=\"blank level0\" >&nbsp;</th>\n",
       "      <th class=\"col_heading level0 col0\" >Model</th>\n",
       "      <th class=\"col_heading level0 col1\" >Accuracy</th>\n",
       "      <th class=\"col_heading level0 col2\" >AUC</th>\n",
       "      <th class=\"col_heading level0 col3\" >Recall</th>\n",
       "      <th class=\"col_heading level0 col4\" >Prec.</th>\n",
       "      <th class=\"col_heading level0 col5\" >F1</th>\n",
       "      <th class=\"col_heading level0 col6\" >Kappa</th>\n",
       "      <th class=\"col_heading level0 col7\" >MCC</th>\n",
       "    </tr>\n",
       "  </thead>\n",
       "  <tbody>\n",
       "    <tr>\n",
       "      <th id=\"T_7bcd2_level0_row0\" class=\"row_heading level0 row0\" >0</th>\n",
       "      <td id=\"T_7bcd2_row0_col0\" class=\"data row0 col0\" >Random Forest Classifier</td>\n",
       "      <td id=\"T_7bcd2_row0_col1\" class=\"data row0 col1\" >0.7862</td>\n",
       "      <td id=\"T_7bcd2_row0_col2\" class=\"data row0 col2\" >0.7815</td>\n",
       "      <td id=\"T_7bcd2_row0_col3\" class=\"data row0 col3\" >0.6508</td>\n",
       "      <td id=\"T_7bcd2_row0_col4\" class=\"data row0 col4\" >0.2984</td>\n",
       "      <td id=\"T_7bcd2_row0_col5\" class=\"data row0 col5\" >0.4092</td>\n",
       "      <td id=\"T_7bcd2_row0_col6\" class=\"data row0 col6\" >0.3000</td>\n",
       "      <td id=\"T_7bcd2_row0_col7\" class=\"data row0 col7\" >0.3340</td>\n",
       "    </tr>\n",
       "  </tbody>\n",
       "</table>\n"
      ],
      "text/plain": [
       "<pandas.io.formats.style.Styler at 0x2973931ca60>"
      ]
     },
     "metadata": {},
     "output_type": "display_data"
    }
   ],
   "source": [
    "rf_holdout_pred = predict_model(rf, probability_threshold=0.5)\n",
    "\n",
    "#plot_model(rf, plot = 'confusion_matrix', plot_kwargs = {'percent' : True})\n",
    "# plot_model(calibrated_rf, plot = 'calibration')"
   ]
  },
  {
   "cell_type": "code",
   "execution_count": null,
   "metadata": {},
   "outputs": [],
   "source": [
    "rf_calibrated_holdout_pred = predict_model(calibrated_rf)"
   ]
  },
  {
   "cell_type": "code",
   "execution_count": null,
   "metadata": {},
   "outputs": [],
   "source": [
    "pred_train = predict_model(rf,data=train_data, probability_threshold=0.5)\n"
   ]
  },
  {
   "cell_type": "code",
   "execution_count": 11,
   "metadata": {},
   "outputs": [
    {
     "data": {
      "image/png": "[encoded data removed]",
      "text/plain": [
       "<Figure size 432x288 with 2 Axes>"
      ]
     },
     "metadata": {
      "needs_background": "light"
     },
     "output_type": "display_data"
    },
    {
     "data": {
      "text/plain": [
       "array([[9697, 1253],\n",
       "       [ 584,  822]], dtype=int64)"
      ]
     },
     "execution_count": 11,
     "metadata": {},
     "output_type": "execute_result"
    }
   ],
   "source": [
    "from sklearn.metrics import confusion_matrix,ConfusionMatrixDisplay\n",
    "import matplotlib.pyplot as plt\n",
    "cm = confusion_matrix(rf_holdout_pred['subscribed'], rf_holdout_pred['prediction_label'])\n",
    "disp = ConfusionMatrixDisplay(confusion_matrix=cm,\n",
    "                              display_labels=rf.classes_)\n",
    "\n",
    "disp.plot()\n",
    "\n",
    "plt.show()\n",
    "\n",
    "cm"
   ]
  },
  {
   "cell_type": "code",
   "execution_count": null,
   "metadata": {},
   "outputs": [],
   "source": [
    "interpret_model(rf)"
   ]
  },
  {
   "cell_type": "code",
   "execution_count": null,
   "metadata": {},
   "outputs": [],
   "source": [
    "interpret_model(rf, use_train_data=True)"
   ]
  },
  {
   "cell_type": "code",
   "execution_count": 14,
   "metadata": {},
   "outputs": [
    {
     "name": "stdout",
     "output_type": "stream",
     "text": [
      "Best Threshold=0.538868\n"
     ]
    }
   ],
   "source": [
    "probas = rf.predict_proba(X_test.loc[:, X_test.columns != 'subscribed'])[:,1]\n",
    "probas\n",
    "\n",
    "\n",
    "y_true = rf_holdout_pred['subscribed']\n",
    "y_pred = rf_holdout_pred['prediction_label']\n",
    "predicts = rf_holdout_pred['prediction_score']\n",
    "\n",
    "from sklearn.metrics import roc_curve\n",
    "\n",
    "from numpy import argmax\n",
    "\n",
    "fpr, tpr, thresholds = roc_curve(y_true,probas)\n",
    "\n",
    "# get the best threshold\n",
    "J = tpr - fpr\n",
    "ix = argmax(J)\n",
    "best_thresh = thresholds[ix]\n",
    "print('Best Threshold=%f' % (best_thresh))\n",
    "\n"
   ]
  },
  {
   "cell_type": "code",
   "execution_count": 9,
   "metadata": {},
   "outputs": [
    {
     "data": {
      "image/png": "[encoded data removed]",
      "text/plain": [
       "<Figure size 432x288 with 1 Axes>"
      ]
     },
     "metadata": {
      "needs_background": "light"
     },
     "output_type": "display_data"
    }
   ],
   "source": [
    "from matplotlib import pyplot\n",
    "\n",
    "# plot the roc curve for the model\n",
    "pyplot.plot([0,1], [0,1], linestyle='--', label='No Skill')\n",
    "pyplot.plot(fpr, tpr, marker='.', label='RF')\n",
    "# axis labels\n",
    "pyplot.xlabel('False Positive Rate')\n",
    "pyplot.ylabel('True Positive Rate')\n",
    "pyplot.legend()\n",
    "# show the plot\n",
    "pyplot.show()"
   ]
  }
 ],
 "metadata": {
  "kernelspec": {
   "display_name": "Python 3",
   "language": "python",
   "name": "python3"
  },
  "language_info": {
   "codemirror_mode": {
    "name": "ipython",
    "version": 3
   },
   "file_extension": ".py",
   "mimetype": "text/x-python",
   "name": "python",
   "nbconvert_exporter": "python",
   "pygments_lexer": "ipython3",
   "version": "3.9.7"
  },
  "orig_nbformat": 4
 },
 "nbformat": 4,
 "nbformat_minor": 2
}
