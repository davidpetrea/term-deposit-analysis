{
 "cells": [
  {
   "cell_type": "code",
   "execution_count": null,
   "metadata": {},
   "outputs": [],
   "source": [
    "import numpy as np\n",
    "import pandas as pd\n",
    "import math\n",
    "from sklearn.model_selection import train_test_split, GridSearchCV, RandomizedSearchCV\n",
    "from sklearn.metrics import classification_report, confusion_matrix, roc_auc_score, auc, f1_score, accuracy_score, precision_score, recall_score, roc_curve, precision_recall_curve \n",
    "from imblearn.over_sampling import SMOTE\n",
    "from sklearn.compose import ColumnTransformer\n",
    "from sklearn.preprocessing import OneHotEncoder\n",
    "from sklearn.pipeline import make_pipeline\n",
    "from sklearn.linear_model import LogisticRegression\n",
    "\n",
    "data = pd.read_csv('data/model_data.csv')\n",
    "\n",
    "\n",
    "data.info()\n"
   ]
  },
  {
   "cell_type": "code",
   "execution_count": null,
   "metadata": {},
   "outputs": [],
   "source": [
    "cat_vars=['job','marital','education','default','housing','loan','contact','month','day_of_week', 'contacted_before', 'poutcome']\n",
    "for var in cat_vars:\n",
    "    cat_list='var'+'_'+var\n",
    "    cat_list = pd.get_dummies(data[var], prefix=var)\n",
    "    data1=data.join(cat_list)\n",
    "    data=data1\n",
    "\n",
    "data_vars=data.columns.values.tolist()\n",
    "to_keep=[i for i in data_vars if i not in cat_vars]\n",
    "\n",
    "data_final=data[to_keep]\n",
    "data_final.columns.values\n",
    "data_final.info()"
   ]
  },
  {
   "cell_type": "code",
   "execution_count": null,
   "metadata": {},
   "outputs": [],
   "source": [
    "#initial cols\n",
    "#cols=['previous', 'emp.var.rate', 'euribor3m', 'job_blue-collar', 'job_entrepreneur', 'job_management', 'job_retired', 'job_services', 'job_student', 'education_basic.9y', 'default_unknown', 'contact_cellular', 'contact_telephone', 'month_dec', 'month_jul', 'month_jun', 'month_may', 'month_nov', 'day_of_week_fri', 'day_of_week_mon']\n",
    "\n",
    "#adjusted with p values cols\n",
    "#cols=['emp.var.rate', 'cons.price.idx', 'euribor3m', 'nr.employed', 'job_retired', 'job_student', 'default_no', 'contact_cellular', 'month_apr', 'month_dec', 'month_jul', 'month_jun', 'month_mar', 'month_may', 'month_oct', 'day_of_week_mon', 'contacted_before_0', 'contacted_before_1', 'poutcome_failure', 'poutcome_success']\n",
    "#X=data_X[cols]\n",
    "#y=data_y['subscribed']"
   ]
  },
  {
   "cell_type": "code",
   "execution_count": null,
   "metadata": {},
   "outputs": [],
   "source": [
    "def filter_strings(string_arr, boolean_arr):\n",
    "    filtered_arr = []\n",
    "    for i in range(len(string_arr)):\n",
    "        if boolean_arr[i]:\n",
    "            filtered_arr.append(string_arr[i])\n",
    "    return filtered_arr\n",
    "\n",
    "\n",
    "filtered_strings = filter_strings(X, rfe.support_.tolist())\n",
    "print(filtered_strings)"
   ]
  },
  {
   "cell_type": "code",
   "execution_count": null,
   "metadata": {},
   "outputs": [],
   "source": [
    "#initial cols\n",
    "cols=['euribor3m', 'marital_divorced', 'marital_married', 'marital_single', 'education_basic.4y', 'education_basic.6y', 'education_basic.9y', 'education_high.school', 'education_professional.course', 'education_university.degree', 'education_unknown', 'housing_no', 'housing_yes', 'loan_no', 'loan_yes', 'day_of_week_fri', 'day_of_week_mon', 'day_of_week_thu', 'day_of_week_tue', 'day_of_week_wed']\n",
    "#adjusted with p values cols\n",
    "#cols=['previous', 'emp.var.rate', 'euribor3m', 'job_blue-collar','job_retired', 'job_services', 'job_student', 'default_unknown', 'contact_cellular', 'contact_telephone', 'month_jul', 'month_jun', 'month_may','day_of_week_fri', 'day_of_week_mon']\n",
    "X=data_X[cols]\n",
    "y=data_y['subscribed']"
   ]
  },
  {
   "cell_type": "code",
   "execution_count": null,
   "metadata": {},
   "outputs": [],
   "source": [
    "######################\n",
    "cols=['previous', 'emp.var.rate', 'euribor3m', 'job_blue-collar','job_retired', 'job_services', 'job_student', 'default_unknown', 'contact_cellular', 'contact_telephone', 'month_jul', 'month_jun', 'month_may','day_of_week_fri', 'day_of_week_mon']\n"
   ]
  },
  {
   "cell_type": "code",
   "execution_count": null,
   "metadata": {},
   "outputs": [],
   "source": [
    "def LogRegOptimizer(X, y):\n",
    "    print('**We will optimize the hyper-parameters of a Logistic Regression model using Randomized Search**\\n')\n",
    "\n",
    "    #function to help us display metrics in a percentage format\n",
    "    def percentage(x):  \n",
    "        x = round(x*100,2)\n",
    "        return (str(x) + \"%\")\n",
    "\n",
    "\n",
    "    X_train, X_test, y_train, y_test = train_test_split(X,y, test_size = 0.25, random_state=1)\n",
    "\n",
    "    over = SMOTE()\n",
    "    \n",
    "    X_train, y_train = over.fit_resample(X_train,y_train)\n",
    "\n",
    "    grid_params = {'C' : [0.001,.009,0.01,.09,1,5,10,25], \n",
    "                    'penalty' : [\"l1\",\"l2\", \"elasticnet\"],\n",
    "                    'solver': [\"newton-cg\", \"lbfgs\", \"liblinear\", \"sag\", \"saga\"]\n",
    "    }\n",
    "\n",
    "    logreg=LogisticRegression()\n",
    "    logreg_cv=RandomizedSearchCV(logreg, grid_params, cv = 10 , verbose = True, n_jobs= -1, scoring = \"roc_auc\")  #randomized search as opposed to gridsearch, to improve run time\n",
    "    logreg_cv.fit(X_train,y_train)\n",
    "    \n",
    "    \n",
    "    y_pred = logreg_cv.predict(X_test)\n",
    "\n",
    "\n",
    "    print(\"----------------------------------- Predict proba-----------------------------------\")\n",
    "\n",
    "    \n",
    "    print(logreg_cv.best_estimator_.predict_proba(X_test)[:,0])\n",
    "    print(\"----------------------------------- Confusion Matrix-----------------------------------\")\n",
    "    print(confusion_matrix(y_test, y_pred))\n",
    "\n",
    "    print(\"--------------------------------- Classification Report---------------------------------\")\n",
    "    print(classification_report(y_test, y_pred))\n",
    "\n",
    "\n",
    "    print(\"-----------------------------------------Metrics----------------------------------------\\n\")\n",
    "    print(\"tuned hyperparameters :(best parameters) \",logreg_cv.best_params_)\n",
    "    print(\"ROC AUC SCORE:\" + str(roc_auc_score(y_test, y_pred)))\n",
    "    print(\"Gini (Somer's D) coefficient:\" + str((roc_auc_score(y_test, y_pred)*2-1)))\n",
    "    print('Accuracy Score : ' + percentage(accuracy_score(y_test,y_pred)))\n",
    "    print('Precision Score : ' + percentage(precision_score(y_test,y_pred)))\n",
    "    print('Recall Score : ' + percentage(recall_score(y_test,y_pred)))\n",
    "    print('F1 Score : ' + percentage(f1_score(y_test,y_pred)))\n",
    "\n",
    "    # get the values required to plot a ROC curve\n",
    "    fpr, tpr, thresholds = roc_curve(y_test, y_pred)\n",
    "    # plot the ROC curve\n",
    "    plt.plot(fpr, tpr)\n",
    "    # plot a secondary diagonal line, to plot randomness of model\n",
    "    plt.plot(fpr, fpr, linestyle = '--', color = 'k')\n",
    "    plt.xlabel('False positive rate')\n",
    "    plt.ylabel('True positive rate')\n",
    "    plt.title('ROC curve')"
   ]
  },
  {
   "cell_type": "code",
   "execution_count": null,
   "metadata": {},
   "outputs": [],
   "source": [
    "X = data_final.drop(labels=['subscribed'], axis=1)\n",
    "\n",
    "LogRegOptimizer(X = X, y = data_final.subscribed)"
   ]
  }
 ],
 "metadata": {
  "kernelspec": {
   "display_name": "Python 3",
   "language": "python",
   "name": "python3"
  },
  "language_info": {
   "codemirror_mode": {
    "name": "ipython",
    "version": 3
   },
   "file_extension": ".py",
   "mimetype": "text/x-python",
   "name": "python",
   "nbconvert_exporter": "python",
   "pygments_lexer": "ipython3",
   "version": "3.9.7"
  },
  "orig_nbformat": 4
 },
 "nbformat": 4,
 "nbformat_minor": 2
}
