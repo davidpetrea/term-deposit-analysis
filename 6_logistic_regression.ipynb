{
 "cells": [
  {
   "cell_type": "code",
   "execution_count": 25,
   "metadata": {},
   "outputs": [
    {
     "name": "stdout",
     "output_type": "stream",
     "text": [
      "<class 'pandas.core.frame.DataFrame'>\n",
      "RangeIndex: 41185 entries, 0 to 41184\n",
      "Data columns (total 20 columns):\n",
      " #   Column            Non-Null Count  Dtype  \n",
      "---  ------            --------------  -----  \n",
      " 0   age               41185 non-null  int64  \n",
      " 1   job               41185 non-null  object \n",
      " 2   marital           41185 non-null  object \n",
      " 3   education         41185 non-null  object \n",
      " 4   default           41185 non-null  object \n",
      " 5   housing           41185 non-null  object \n",
      " 6   loan              41185 non-null  object \n",
      " 7   contact           41185 non-null  object \n",
      " 8   month             41185 non-null  object \n",
      " 9   day_of_week       41185 non-null  object \n",
      " 10  campaign          41185 non-null  int64  \n",
      " 11  contacted_before  41185 non-null  int64  \n",
      " 12  previous          41185 non-null  int64  \n",
      " 13  poutcome          41185 non-null  object \n",
      " 14  emp.var.rate      41185 non-null  float64\n",
      " 15  cons.price.idx    41185 non-null  int64  \n",
      " 16  cons.conf.idx     41185 non-null  int64  \n",
      " 17  euribor3m         41185 non-null  int64  \n",
      " 18  nr.employed       41185 non-null  int64  \n",
      " 19  subscribed        41185 non-null  int64  \n",
      "dtypes: float64(1), int64(9), object(10)\n",
      "memory usage: 6.3+ MB\n"
     ]
    }
   ],
   "source": [
    "import numpy as np\n",
    "import pandas as pd\n",
    "import math\n",
    "from sklearn.model_selection import train_test_split, GridSearchCV, RandomizedSearchCV\n",
    "from sklearn.metrics import classification_report, confusion_matrix, roc_auc_score, auc, f1_score, accuracy_score, precision_score, recall_score, roc_curve, precision_recall_curve \n",
    "from imblearn.over_sampling import SMOTE\n",
    "from sklearn.compose import ColumnTransformer\n",
    "from sklearn.preprocessing import OneHotEncoder\n",
    "from sklearn.pipeline import make_pipeline\n",
    "from sklearn.linear_model import LogisticRegression\n",
    "\n",
    "data = pd.read_csv('data/model_data.csv')\n",
    "\n",
    "\n",
    "data.info()\n"
   ]
  },
  {
   "cell_type": "code",
   "execution_count": 26,
   "metadata": {},
   "outputs": [
    {
     "name": "stdout",
     "output_type": "stream",
     "text": [
      "<class 'pandas.core.frame.DataFrame'>\n",
      "RangeIndex: 41185 entries, 0 to 41184\n",
      "Data columns (total 59 columns):\n",
      " #   Column                         Non-Null Count  Dtype  \n",
      "---  ------                         --------------  -----  \n",
      " 0   age                            41185 non-null  int64  \n",
      " 1   campaign                       41185 non-null  int64  \n",
      " 2   previous                       41185 non-null  int64  \n",
      " 3   emp.var.rate                   41185 non-null  float64\n",
      " 4   cons.price.idx                 41185 non-null  int64  \n",
      " 5   cons.conf.idx                  41185 non-null  int64  \n",
      " 6   euribor3m                      41185 non-null  int64  \n",
      " 7   nr.employed                    41185 non-null  int64  \n",
      " 8   subscribed                     41185 non-null  int64  \n",
      " 9   job_admin.                     41185 non-null  uint8  \n",
      " 10  job_blue-collar                41185 non-null  uint8  \n",
      " 11  job_entrepreneur               41185 non-null  uint8  \n",
      " 12  job_housemaid                  41185 non-null  uint8  \n",
      " 13  job_management                 41185 non-null  uint8  \n",
      " 14  job_retired                    41185 non-null  uint8  \n",
      " 15  job_self-employed              41185 non-null  uint8  \n",
      " 16  job_services                   41185 non-null  uint8  \n",
      " 17  job_student                    41185 non-null  uint8  \n",
      " 18  job_technician                 41185 non-null  uint8  \n",
      " 19  job_unemployed                 41185 non-null  uint8  \n",
      " 20  marital_divorced               41185 non-null  uint8  \n",
      " 21  marital_married                41185 non-null  uint8  \n",
      " 22  marital_single                 41185 non-null  uint8  \n",
      " 23  education_basic.4y             41185 non-null  uint8  \n",
      " 24  education_basic.6y             41185 non-null  uint8  \n",
      " 25  education_basic.9y             41185 non-null  uint8  \n",
      " 26  education_high.school          41185 non-null  uint8  \n",
      " 27  education_professional.course  41185 non-null  uint8  \n",
      " 28  education_university.degree    41185 non-null  uint8  \n",
      " 29  education_unknown              41185 non-null  uint8  \n",
      " 30  default_no                     41185 non-null  uint8  \n",
      " 31  default_unknown                41185 non-null  uint8  \n",
      " 32  housing_no                     41185 non-null  uint8  \n",
      " 33  housing_yes                    41185 non-null  uint8  \n",
      " 34  loan_no                        41185 non-null  uint8  \n",
      " 35  loan_unknown                   41185 non-null  uint8  \n",
      " 36  loan_yes                       41185 non-null  uint8  \n",
      " 37  contact_cellular               41185 non-null  uint8  \n",
      " 38  contact_telephone              41185 non-null  uint8  \n",
      " 39  month_apr                      41185 non-null  uint8  \n",
      " 40  month_aug                      41185 non-null  uint8  \n",
      " 41  month_dec                      41185 non-null  uint8  \n",
      " 42  month_jul                      41185 non-null  uint8  \n",
      " 43  month_jun                      41185 non-null  uint8  \n",
      " 44  month_mar                      41185 non-null  uint8  \n",
      " 45  month_may                      41185 non-null  uint8  \n",
      " 46  month_nov                      41185 non-null  uint8  \n",
      " 47  month_oct                      41185 non-null  uint8  \n",
      " 48  month_sep                      41185 non-null  uint8  \n",
      " 49  day_of_week_fri                41185 non-null  uint8  \n",
      " 50  day_of_week_mon                41185 non-null  uint8  \n",
      " 51  day_of_week_thu                41185 non-null  uint8  \n",
      " 52  day_of_week_tue                41185 non-null  uint8  \n",
      " 53  day_of_week_wed                41185 non-null  uint8  \n",
      " 54  contacted_before_0             41185 non-null  uint8  \n",
      " 55  contacted_before_1             41185 non-null  uint8  \n",
      " 56  poutcome_failure               41185 non-null  uint8  \n",
      " 57  poutcome_nonexistent           41185 non-null  uint8  \n",
      " 58  poutcome_success               41185 non-null  uint8  \n",
      "dtypes: float64(1), int64(8), uint8(50)\n",
      "memory usage: 4.8 MB\n"
     ]
    }
   ],
   "source": [
    "cat_vars=['job','marital','education','default','housing','loan','contact','month','day_of_week', 'contacted_before', 'poutcome']\n",
    "for var in cat_vars:\n",
    "    cat_list='var'+'_'+var\n",
    "    cat_list = pd.get_dummies(data[var], prefix=var)\n",
    "    data1=data.join(cat_list)\n",
    "    data=data1\n",
    "\n",
    "data_vars=data.columns.values.tolist()\n",
    "to_keep=[i for i in data_vars if i not in cat_vars]\n",
    "\n",
    "data_final=data[to_keep]\n",
    "data_final.columns.values\n",
    "data_final.info()"
   ]
  },
  {
   "cell_type": "code",
   "execution_count": 9,
   "metadata": {},
   "outputs": [],
   "source": [
    "#initial cols\n",
    "#cols=['previous', 'emp.var.rate', 'euribor3m', 'job_blue-collar', 'job_entrepreneur', 'job_management', 'job_retired', 'job_services', 'job_student', 'education_basic.9y', 'default_unknown', 'contact_cellular', 'contact_telephone', 'month_dec', 'month_jul', 'month_jun', 'month_may', 'month_nov', 'day_of_week_fri', 'day_of_week_mon']\n",
    "\n",
    "#adjusted with p values cols\n",
    "#cols=['emp.var.rate', 'cons.price.idx', 'euribor3m', 'nr.employed', 'job_retired', 'job_student', 'default_no', 'contact_cellular', 'month_apr', 'month_dec', 'month_jul', 'month_jun', 'month_mar', 'month_may', 'month_oct', 'day_of_week_mon', 'contacted_before_0', 'contacted_before_1', 'poutcome_failure', 'poutcome_success']\n",
    "#X=data_X[cols]\n",
    "#y=data_y['subscribed']"
   ]
  },
  {
   "cell_type": "code",
   "execution_count": 18,
   "metadata": {},
   "outputs": [
    {
     "name": "stdout",
     "output_type": "stream",
     "text": [
      "['marital_divorced', 'marital_married', 'marital_single', 'education_basic.4y', 'education_basic.6y', 'education_basic.9y', 'education_high.school', 'education_professional.course', 'education_university.degree', 'education_unknown', 'housing_no', 'housing_yes', 'loan_no', 'loan_unknown', 'loan_yes', 'day_of_week_fri', 'day_of_week_mon', 'day_of_week_thu', 'day_of_week_tue', 'day_of_week_wed']\n"
     ]
    }
   ],
   "source": [
    "def filter_strings(string_arr, boolean_arr):\n",
    "    filtered_arr = []\n",
    "    for i in range(len(string_arr)):\n",
    "        if boolean_arr[i]:\n",
    "            filtered_arr.append(string_arr[i])\n",
    "    return filtered_arr\n",
    "\n",
    "\n",
    "filtered_strings = filter_strings(X, rfe.support_.tolist())\n",
    "print(filtered_strings)"
   ]
  },
  {
   "cell_type": "code",
   "execution_count": 19,
   "metadata": {},
   "outputs": [],
   "source": [
    "#initial cols\n",
    "cols=['euribor3m', 'marital_divorced', 'marital_married', 'marital_single', 'education_basic.4y', 'education_basic.6y', 'education_basic.9y', 'education_high.school', 'education_professional.course', 'education_university.degree', 'education_unknown', 'housing_no', 'housing_yes', 'loan_no', 'loan_yes', 'day_of_week_fri', 'day_of_week_mon', 'day_of_week_thu', 'day_of_week_tue', 'day_of_week_wed']\n",
    "#adjusted with p values cols\n",
    "#cols=['previous', 'emp.var.rate', 'euribor3m', 'job_blue-collar','job_retired', 'job_services', 'job_student', 'default_unknown', 'contact_cellular', 'contact_telephone', 'month_jul', 'month_jun', 'month_may','day_of_week_fri', 'day_of_week_mon']\n",
    "X=data_X[cols]\n",
    "y=data_y['subscribed']"
   ]
  },
  {
   "cell_type": "code",
   "execution_count": 21,
   "metadata": {},
   "outputs": [],
   "source": [
    "######################\n",
    "cols=['previous', 'emp.var.rate', 'euribor3m', 'job_blue-collar','job_retired', 'job_services', 'job_student', 'default_unknown', 'contact_cellular', 'contact_telephone', 'month_jul', 'month_jun', 'month_may','day_of_week_fri', 'day_of_week_mon']\n"
   ]
  },
  {
   "cell_type": "code",
   "execution_count": 27,
   "metadata": {},
   "outputs": [],
   "source": [
    "def LogRegOptimizer(X, y):\n",
    "    print('**We will optimize the hyper-parameters of a Logistic Regression model using Randomized Search**\\n')\n",
    "\n",
    "    #function to help us display metrics in a percentage format\n",
    "    def percentage(x):  \n",
    "        x = round(x*100,2)\n",
    "        return (str(x) + \"%\")\n",
    "\n",
    "\n",
    "    X_train, X_test, y_train, y_test = train_test_split(X,y, test_size = 0.25, random_state=1)\n",
    "\n",
    "    over = SMOTE()\n",
    "    \n",
    "    X_train, y_train = over.fit_resample(X_train,y_train)\n",
    "\n",
    "    grid_params = {'C' : [0.001,.009,0.01,.09,1,5,10,25], \n",
    "                    'penalty' : [\"l1\",\"l2\", \"elasticnet\"],\n",
    "                    'solver': [\"newton-cg\", \"lbfgs\", \"liblinear\", \"sag\", \"saga\"]\n",
    "    }\n",
    "\n",
    "    logreg=LogisticRegression()\n",
    "    logreg_cv=RandomizedSearchCV(logreg, grid_params, cv = 10 , verbose = True, n_jobs= -1, scoring = \"roc_auc\")  #randomized search as opposed to gridsearch, to improve run time\n",
    "    logreg_cv.fit(X_train,y_train)\n",
    "    \n",
    "    \n",
    "    y_pred = logreg_cv.predict(X_test)\n",
    "\n",
    "\n",
    "    print(\"----------------------------------- Predict proba-----------------------------------\")\n",
    "\n",
    "    \n",
    "    print(logreg_cv.best_estimator_.predict_proba(X_test)[:,0])\n",
    "    print(\"----------------------------------- Confusion Matrix-----------------------------------\")\n",
    "    print(confusion_matrix(y_test, y_pred))\n",
    "\n",
    "    print(\"--------------------------------- Classification Report---------------------------------\")\n",
    "    print(classification_report(y_test, y_pred))\n",
    "\n",
    "\n",
    "    print(\"-----------------------------------------Metrics----------------------------------------\\n\")\n",
    "    print(\"tuned hyperparameters :(best parameters) \",logreg_cv.best_params_)\n",
    "    print(\"ROC AUC SCORE:\" + str(roc_auc_score(y_test, y_pred)))\n",
    "    print(\"Gini (Somer's D) coefficient:\" + str((roc_auc_score(y_test, y_pred)*2-1)))\n",
    "    print('Accuracy Score : ' + percentage(accuracy_score(y_test,y_pred)))\n",
    "    print('Precision Score : ' + percentage(precision_score(y_test,y_pred)))\n",
    "    print('Recall Score : ' + percentage(recall_score(y_test,y_pred)))\n",
    "    print('F1 Score : ' + percentage(f1_score(y_test,y_pred)))\n",
    "\n",
    "    # get the values required to plot a ROC curve\n",
    "    fpr, tpr, thresholds = roc_curve(y_test, y_pred)\n",
    "    # plot the ROC curve\n",
    "    plt.plot(fpr, tpr)\n",
    "    # plot a secondary diagonal line, to plot randomness of model\n",
    "    plt.plot(fpr, fpr, linestyle = '--', color = 'k')\n",
    "    plt.xlabel('False positive rate')\n",
    "    plt.ylabel('True positive rate')\n",
    "    plt.title('ROC curve')"
   ]
  },
  {
   "cell_type": "code",
   "execution_count": 28,
   "metadata": {},
   "outputs": [
    {
     "name": "stdout",
     "output_type": "stream",
     "text": [
      "**We will optimize the hyper-parameters of a Logistic Regression model using Randomized Search**\n",
      "\n",
      "Fitting 10 folds for each of 10 candidates, totalling 100 fits\n"
     ]
    },
    {
     "name": "stderr",
     "output_type": "stream",
     "text": [
      "C:\\Users\\wyver\\AppData\\Roaming\\Python\\Python39\\site-packages\\sklearn\\model_selection\\_validation.py:378: FitFailedWarning: \n",
      "30 fits failed out of a total of 100.\n",
      "The score on these train-test partitions for these parameters will be set to nan.\n",
      "If these failures are not expected, you can try to debug them by setting error_score='raise'.\n",
      "\n",
      "Below are more details about the failures:\n",
      "--------------------------------------------------------------------------------\n",
      "20 fits failed with the following error:\n",
      "Traceback (most recent call last):\n",
      "  File \"C:\\Users\\wyver\\AppData\\Roaming\\Python\\Python39\\site-packages\\sklearn\\model_selection\\_validation.py\", line 686, in _fit_and_score\n",
      "    estimator.fit(X_train, y_train, **fit_params)\n",
      "  File \"C:\\Users\\wyver\\AppData\\Roaming\\Python\\Python39\\site-packages\\sklearn\\linear_model\\_logistic.py\", line 1094, in fit\n",
      "    solver = _check_solver(self.solver, self.penalty, self.dual)\n",
      "  File \"C:\\Users\\wyver\\AppData\\Roaming\\Python\\Python39\\site-packages\\sklearn\\linear_model\\_logistic.py\", line 61, in _check_solver\n",
      "    raise ValueError(\n",
      "ValueError: Solver sag supports only 'l2' or 'none' penalties, got l1 penalty.\n",
      "\n",
      "--------------------------------------------------------------------------------\n",
      "10 fits failed with the following error:\n",
      "Traceback (most recent call last):\n",
      "  File \"C:\\Users\\wyver\\AppData\\Roaming\\Python\\Python39\\site-packages\\sklearn\\model_selection\\_validation.py\", line 686, in _fit_and_score\n",
      "    estimator.fit(X_train, y_train, **fit_params)\n",
      "  File \"C:\\Users\\wyver\\AppData\\Roaming\\Python\\Python39\\site-packages\\sklearn\\linear_model\\_logistic.py\", line 1094, in fit\n",
      "    solver = _check_solver(self.solver, self.penalty, self.dual)\n",
      "  File \"C:\\Users\\wyver\\AppData\\Roaming\\Python\\Python39\\site-packages\\sklearn\\linear_model\\_logistic.py\", line 61, in _check_solver\n",
      "    raise ValueError(\n",
      "ValueError: Solver lbfgs supports only 'l2' or 'none' penalties, got elasticnet penalty.\n",
      "\n",
      "  warnings.warn(some_fits_failed_message, FitFailedWarning)\n",
      "C:\\Users\\wyver\\AppData\\Roaming\\Python\\Python39\\site-packages\\sklearn\\model_selection\\_search.py:953: UserWarning: One or more of the test scores are non-finite: [0.96721731        nan        nan 0.95425451 0.96852086 0.96876759\n",
      " 0.93078123 0.95932105 0.961721          nan]\n",
      "  warnings.warn(\n"
     ]
    },
    {
     "name": "stdout",
     "output_type": "stream",
     "text": [
      "----------------------------------- Predict proba-----------------------------------\n",
      "[0.89778902 0.94558311 0.80081977 ... 0.92770441 0.88607265 0.93612742]\n",
      "----------------------------------- Confusion Matrix-----------------------------------\n",
      "[[9000  131]\n",
      " [ 875  291]]\n",
      "--------------------------------- Classification Report---------------------------------\n",
      "              precision    recall  f1-score   support\n",
      "\n",
      "           0       0.91      0.99      0.95      9131\n",
      "           1       0.69      0.25      0.37      1166\n",
      "\n",
      "    accuracy                           0.90     10297\n",
      "   macro avg       0.80      0.62      0.66     10297\n",
      "weighted avg       0.89      0.90      0.88     10297\n",
      "\n",
      "-----------------------------------------Metrics----------------------------------------\n",
      "\n",
      "tuned hyperparameters :(best parameters)  {'solver': 'liblinear', 'penalty': 'l1', 'C': 25}\n",
      "ROC AUC SCORE:0.6176122263083951\n",
      "Gini (Somer's D) coefficient:0.23522445261679015\n",
      "Accuracy Score : 90.23%\n",
      "Precision Score : 68.96%\n",
      "Recall Score : 24.96%\n",
      "F1 Score : 36.65%\n"
     ]
    },
    {
     "data": {
      "image/png": "[encoded data removed]",
      "text/plain": [
       "<Figure size 432x288 with 1 Axes>"
      ]
     },
     "metadata": {
      "needs_background": "light"
     },
     "output_type": "display_data"
    }
   ],
   "source": [
    "X = data_final.drop(labels=['subscribed'], axis=1)\n",
    "\n",
    "LogRegOptimizer(X = X, y = data_final.subscribed)"
   ]
  }
 ],
 "metadata": {
  "kernelspec": {
   "display_name": "Python 3",
   "language": "python",
   "name": "python3"
  },
  "language_info": {
   "codemirror_mode": {
    "name": "ipython",
    "version": 3
   },
   "file_extension": ".py",
   "mimetype": "text/x-python",
   "name": "python",
   "nbconvert_exporter": "python",
   "pygments_lexer": "ipython3",
   "version": "3.9.7"
  },
  "orig_nbformat": 4
 },
 "nbformat": 4,
 "nbformat_minor": 2
}
