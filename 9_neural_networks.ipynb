{
 "cells": [
  {
   "cell_type": "code",
   "execution_count": 2,
   "metadata": {},
   "outputs": [],
   "source": [
    "import pandas as pd\n",
    "import numpy as np\n",
    "from sklearn.neural_network import MLPClassifier\n",
    "\n",
    "data = pd.read_csv('data/model_data.csv')\n",
    "\n",
    "X_train = pd.read_csv('data/X_train_transformed.csv')\n",
    "X_test = pd.read_csv('data/X_test_transformed.csv')\n",
    "y_train = pd.read_csv('data/y_train_transformed.csv')\n",
    "y_test = pd.read_csv('data/y_test_transformed.csv')\n",
    "\n",
    "#this step is necessary because we are using the already splot data inside the pycaret setup, and indexes must not overlap on the train and test data sets\n",
    "\n",
    "#combine balanced train data back into a single df\n",
    "X_train['subscribed'] = y_train\n",
    "train_data = X_train\n",
    "\n",
    "#combine test data back into a single df\n",
    "X_test['subscribed'] = y_test\n",
    "test_data = X_test.set_index( np.arange(len(X_train), len(X_train)+len(X_test)))"
   ]
  },
  {
   "cell_type": "code",
   "execution_count": null,
   "metadata": {},
   "outputs": [],
   "source": [
    "\n",
    "from sklearn.metrics import RocCurveDisplay,roc_auc_score, f1_score,accuracy_score,confusion_matrix,classification_report,roc_curve\n",
    "from sklearn.calibration import CalibratedClassifierCV\n",
    "clf = MLPClassifier(hidden_layer_sizes=[20,15,10], activation='tanh', random_state=420, max_iter=300).fit(X_train, y_train)\n",
    "\n",
    "#Classes are ordered [0,1]\n",
    "y_pred = clf.predict_proba(X_test)\n",
    "y_pred = [i[1] for i in y_pred]\n",
    "y_score = y_pred\n",
    "y_pred = pd.Series(list(np.where(np.array(y_pred) > 0.5, 1, 0 ))) \n",
    "\n",
    "report = classification_report(y_test, y_pred)\n",
    "print(report)\n",
    "import scikitplot as skplt\n",
    "import matplotlib.pyplot as plt\n",
    "\n",
    "\n",
    "#Plot AOC Curves\n",
    "y_probas = clf.predict_proba(X_test)\n",
    "skplt.metrics.plot_roc_curve(y_test, y_probas)\n",
    "plt.show()"
   ]
  },
  {
   "cell_type": "code",
   "execution_count": null,
   "metadata": {},
   "outputs": [],
   "source": [
    "y_pred"
   ]
  },
  {
   "cell_type": "code",
   "execution_count": null,
   "metadata": {},
   "outputs": [],
   "source": [
    "y_probas"
   ]
  },
  {
   "cell_type": "code",
   "execution_count": 19,
   "metadata": {},
   "outputs": [
    {
     "data": {
      "text/html": [
       "<style type=\"text/css\">\n",
       "#T_111eb_row8_col1 {\n",
       "  background-color: lightgreen;\n",
       "}\n",
       "</style>\n",
       "<table id=\"T_111eb_\">\n",
       "  <thead>\n",
       "    <tr>\n",
       "      <th class=\"blank level0\" >&nbsp;</th>\n",
       "      <th class=\"col_heading level0 col0\" >Description</th>\n",
       "      <th class=\"col_heading level0 col1\" >Value</th>\n",
       "    </tr>\n",
       "  </thead>\n",
       "  <tbody>\n",
       "    <tr>\n",
       "      <th id=\"T_111eb_level0_row0\" class=\"row_heading level0 row0\" >0</th>\n",
       "      <td id=\"T_111eb_row0_col0\" class=\"data row0 col0\" >Session id</td>\n",
       "      <td id=\"T_111eb_row0_col1\" class=\"data row0 col1\" >420</td>\n",
       "    </tr>\n",
       "    <tr>\n",
       "      <th id=\"T_111eb_level0_row1\" class=\"row_heading level0 row1\" >1</th>\n",
       "      <td id=\"T_111eb_row1_col0\" class=\"data row1 col0\" >Target</td>\n",
       "      <td id=\"T_111eb_row1_col1\" class=\"data row1 col1\" >subscribed</td>\n",
       "    </tr>\n",
       "    <tr>\n",
       "      <th id=\"T_111eb_level0_row2\" class=\"row_heading level0 row2\" >2</th>\n",
       "      <td id=\"T_111eb_row2_col0\" class=\"data row2 col0\" >Target type</td>\n",
       "      <td id=\"T_111eb_row2_col1\" class=\"data row2 col1\" >Binary</td>\n",
       "    </tr>\n",
       "    <tr>\n",
       "      <th id=\"T_111eb_level0_row3\" class=\"row_heading level0 row3\" >3</th>\n",
       "      <td id=\"T_111eb_row3_col0\" class=\"data row3 col0\" >Original data shape</td>\n",
       "      <td id=\"T_111eb_row3_col1\" class=\"data row3 col1\" >(63546, 55)</td>\n",
       "    </tr>\n",
       "    <tr>\n",
       "      <th id=\"T_111eb_level0_row4\" class=\"row_heading level0 row4\" >4</th>\n",
       "      <td id=\"T_111eb_row4_col0\" class=\"data row4 col0\" >Transformed data shape</td>\n",
       "      <td id=\"T_111eb_row4_col1\" class=\"data row4 col1\" >(63546, 55)</td>\n",
       "    </tr>\n",
       "    <tr>\n",
       "      <th id=\"T_111eb_level0_row5\" class=\"row_heading level0 row5\" >5</th>\n",
       "      <td id=\"T_111eb_row5_col0\" class=\"data row5 col0\" >Transformed train set shape</td>\n",
       "      <td id=\"T_111eb_row5_col1\" class=\"data row5 col1\" >(51190, 55)</td>\n",
       "    </tr>\n",
       "    <tr>\n",
       "      <th id=\"T_111eb_level0_row6\" class=\"row_heading level0 row6\" >6</th>\n",
       "      <td id=\"T_111eb_row6_col0\" class=\"data row6 col0\" >Transformed test set shape</td>\n",
       "      <td id=\"T_111eb_row6_col1\" class=\"data row6 col1\" >(12356, 55)</td>\n",
       "    </tr>\n",
       "    <tr>\n",
       "      <th id=\"T_111eb_level0_row7\" class=\"row_heading level0 row7\" >7</th>\n",
       "      <td id=\"T_111eb_row7_col0\" class=\"data row7 col0\" >Numeric features</td>\n",
       "      <td id=\"T_111eb_row7_col1\" class=\"data row7 col1\" >54</td>\n",
       "    </tr>\n",
       "    <tr>\n",
       "      <th id=\"T_111eb_level0_row8\" class=\"row_heading level0 row8\" >8</th>\n",
       "      <td id=\"T_111eb_row8_col0\" class=\"data row8 col0\" >Preprocess</td>\n",
       "      <td id=\"T_111eb_row8_col1\" class=\"data row8 col1\" >True</td>\n",
       "    </tr>\n",
       "    <tr>\n",
       "      <th id=\"T_111eb_level0_row9\" class=\"row_heading level0 row9\" >9</th>\n",
       "      <td id=\"T_111eb_row9_col0\" class=\"data row9 col0\" >Imputation type</td>\n",
       "      <td id=\"T_111eb_row9_col1\" class=\"data row9 col1\" >simple</td>\n",
       "    </tr>\n",
       "    <tr>\n",
       "      <th id=\"T_111eb_level0_row10\" class=\"row_heading level0 row10\" >10</th>\n",
       "      <td id=\"T_111eb_row10_col0\" class=\"data row10 col0\" >Numeric imputation</td>\n",
       "      <td id=\"T_111eb_row10_col1\" class=\"data row10 col1\" >mean</td>\n",
       "    </tr>\n",
       "    <tr>\n",
       "      <th id=\"T_111eb_level0_row11\" class=\"row_heading level0 row11\" >11</th>\n",
       "      <td id=\"T_111eb_row11_col0\" class=\"data row11 col0\" >Categorical imputation</td>\n",
       "      <td id=\"T_111eb_row11_col1\" class=\"data row11 col1\" >mode</td>\n",
       "    </tr>\n",
       "    <tr>\n",
       "      <th id=\"T_111eb_level0_row12\" class=\"row_heading level0 row12\" >12</th>\n",
       "      <td id=\"T_111eb_row12_col0\" class=\"data row12 col0\" >Fold Generator</td>\n",
       "      <td id=\"T_111eb_row12_col1\" class=\"data row12 col1\" >StratifiedKFold</td>\n",
       "    </tr>\n",
       "    <tr>\n",
       "      <th id=\"T_111eb_level0_row13\" class=\"row_heading level0 row13\" >13</th>\n",
       "      <td id=\"T_111eb_row13_col0\" class=\"data row13 col0\" >Fold Number</td>\n",
       "      <td id=\"T_111eb_row13_col1\" class=\"data row13 col1\" >5</td>\n",
       "    </tr>\n",
       "    <tr>\n",
       "      <th id=\"T_111eb_level0_row14\" class=\"row_heading level0 row14\" >14</th>\n",
       "      <td id=\"T_111eb_row14_col0\" class=\"data row14 col0\" >CPU Jobs</td>\n",
       "      <td id=\"T_111eb_row14_col1\" class=\"data row14 col1\" >-1</td>\n",
       "    </tr>\n",
       "    <tr>\n",
       "      <th id=\"T_111eb_level0_row15\" class=\"row_heading level0 row15\" >15</th>\n",
       "      <td id=\"T_111eb_row15_col0\" class=\"data row15 col0\" >Use GPU</td>\n",
       "      <td id=\"T_111eb_row15_col1\" class=\"data row15 col1\" >False</td>\n",
       "    </tr>\n",
       "    <tr>\n",
       "      <th id=\"T_111eb_level0_row16\" class=\"row_heading level0 row16\" >16</th>\n",
       "      <td id=\"T_111eb_row16_col0\" class=\"data row16 col0\" >Log Experiment</td>\n",
       "      <td id=\"T_111eb_row16_col1\" class=\"data row16 col1\" >False</td>\n",
       "    </tr>\n",
       "    <tr>\n",
       "      <th id=\"T_111eb_level0_row17\" class=\"row_heading level0 row17\" >17</th>\n",
       "      <td id=\"T_111eb_row17_col0\" class=\"data row17 col0\" >Experiment Name</td>\n",
       "      <td id=\"T_111eb_row17_col1\" class=\"data row17 col1\" >clf-default-name</td>\n",
       "    </tr>\n",
       "    <tr>\n",
       "      <th id=\"T_111eb_level0_row18\" class=\"row_heading level0 row18\" >18</th>\n",
       "      <td id=\"T_111eb_row18_col0\" class=\"data row18 col0\" >USI</td>\n",
       "      <td id=\"T_111eb_row18_col1\" class=\"data row18 col1\" >9f76</td>\n",
       "    </tr>\n",
       "  </tbody>\n",
       "</table>\n"
      ],
      "text/plain": [
       "<pandas.io.formats.style.Styler at 0x25929bcb6a0>"
      ]
     },
     "metadata": {},
     "output_type": "display_data"
    }
   ],
   "source": [
    "from pycaret.classification import *\n",
    "s = (setup(data=train_data,\n",
    "           test_data=test_data,\n",
    "            target = 'subscribed',\n",
    "            session_id = 420,\n",
    "            fold=5,\n",
    "            ))"
   ]
  },
  {
   "cell_type": "code",
   "execution_count": 20,
   "metadata": {},
   "outputs": [
    {
     "data": {
      "text/html": [],
      "text/plain": [
       "<IPython.core.display.HTML object>"
      ]
     },
     "metadata": {},
     "output_type": "display_data"
    },
    {
     "data": {
      "text/html": [
       "<style type=\"text/css\">\n",
       "#T_3c98e_row5_col0, #T_3c98e_row5_col1, #T_3c98e_row5_col2, #T_3c98e_row5_col3, #T_3c98e_row5_col4, #T_3c98e_row5_col5, #T_3c98e_row5_col6 {\n",
       "  background: yellow;\n",
       "}\n",
       "</style>\n",
       "<table id=\"T_3c98e_\">\n",
       "  <thead>\n",
       "    <tr>\n",
       "      <th class=\"blank level0\" >&nbsp;</th>\n",
       "      <th class=\"col_heading level0 col0\" >Accuracy</th>\n",
       "      <th class=\"col_heading level0 col1\" >AUC</th>\n",
       "      <th class=\"col_heading level0 col2\" >Recall</th>\n",
       "      <th class=\"col_heading level0 col3\" >Prec.</th>\n",
       "      <th class=\"col_heading level0 col4\" >F1</th>\n",
       "      <th class=\"col_heading level0 col5\" >Kappa</th>\n",
       "      <th class=\"col_heading level0 col6\" >MCC</th>\n",
       "    </tr>\n",
       "    <tr>\n",
       "      <th class=\"index_name level0\" >Fold</th>\n",
       "      <th class=\"blank col0\" >&nbsp;</th>\n",
       "      <th class=\"blank col1\" >&nbsp;</th>\n",
       "      <th class=\"blank col2\" >&nbsp;</th>\n",
       "      <th class=\"blank col3\" >&nbsp;</th>\n",
       "      <th class=\"blank col4\" >&nbsp;</th>\n",
       "      <th class=\"blank col5\" >&nbsp;</th>\n",
       "      <th class=\"blank col6\" >&nbsp;</th>\n",
       "    </tr>\n",
       "  </thead>\n",
       "  <tbody>\n",
       "    <tr>\n",
       "      <th id=\"T_3c98e_level0_row0\" class=\"row_heading level0 row0\" >0</th>\n",
       "      <td id=\"T_3c98e_row0_col0\" class=\"data row0 col0\" >0.7163</td>\n",
       "      <td id=\"T_3c98e_row0_col1\" class=\"data row0 col1\" >0.7788</td>\n",
       "      <td id=\"T_3c98e_row0_col2\" class=\"data row0 col2\" >0.6587</td>\n",
       "      <td id=\"T_3c98e_row0_col3\" class=\"data row0 col3\" >0.7444</td>\n",
       "      <td id=\"T_3c98e_row0_col4\" class=\"data row0 col4\" >0.6989</td>\n",
       "      <td id=\"T_3c98e_row0_col5\" class=\"data row0 col5\" >0.4325</td>\n",
       "      <td id=\"T_3c98e_row0_col6\" class=\"data row0 col6\" >0.4354</td>\n",
       "    </tr>\n",
       "    <tr>\n",
       "      <th id=\"T_3c98e_level0_row1\" class=\"row_heading level0 row1\" >1</th>\n",
       "      <td id=\"T_3c98e_row1_col0\" class=\"data row1 col0\" >0.8134</td>\n",
       "      <td id=\"T_3c98e_row1_col1\" class=\"data row1 col1\" >0.8991</td>\n",
       "      <td id=\"T_3c98e_row1_col2\" class=\"data row1 col2\" >0.8314</td>\n",
       "      <td id=\"T_3c98e_row1_col3\" class=\"data row1 col3\" >0.8026</td>\n",
       "      <td id=\"T_3c98e_row1_col4\" class=\"data row1 col4\" >0.8167</td>\n",
       "      <td id=\"T_3c98e_row1_col5\" class=\"data row1 col5\" >0.6269</td>\n",
       "      <td id=\"T_3c98e_row1_col6\" class=\"data row1 col6\" >0.6273</td>\n",
       "    </tr>\n",
       "    <tr>\n",
       "      <th id=\"T_3c98e_level0_row2\" class=\"row_heading level0 row2\" >2</th>\n",
       "      <td id=\"T_3c98e_row2_col0\" class=\"data row2 col0\" >0.8142</td>\n",
       "      <td id=\"T_3c98e_row2_col1\" class=\"data row2 col1\" >0.8969</td>\n",
       "      <td id=\"T_3c98e_row2_col2\" class=\"data row2 col2\" >0.8257</td>\n",
       "      <td id=\"T_3c98e_row2_col3\" class=\"data row2 col3\" >0.8071</td>\n",
       "      <td id=\"T_3c98e_row2_col4\" class=\"data row2 col4\" >0.8163</td>\n",
       "      <td id=\"T_3c98e_row2_col5\" class=\"data row2 col5\" >0.6284</td>\n",
       "      <td id=\"T_3c98e_row2_col6\" class=\"data row2 col6\" >0.6286</td>\n",
       "    </tr>\n",
       "    <tr>\n",
       "      <th id=\"T_3c98e_level0_row3\" class=\"row_heading level0 row3\" >3</th>\n",
       "      <td id=\"T_3c98e_row3_col0\" class=\"data row3 col0\" >0.8116</td>\n",
       "      <td id=\"T_3c98e_row3_col1\" class=\"data row3 col1\" >0.8986</td>\n",
       "      <td id=\"T_3c98e_row3_col2\" class=\"data row3 col2\" >0.7953</td>\n",
       "      <td id=\"T_3c98e_row3_col3\" class=\"data row3 col3\" >0.8221</td>\n",
       "      <td id=\"T_3c98e_row3_col4\" class=\"data row3 col4\" >0.8085</td>\n",
       "      <td id=\"T_3c98e_row3_col5\" class=\"data row3 col5\" >0.6232</td>\n",
       "      <td id=\"T_3c98e_row3_col6\" class=\"data row3 col6\" >0.6235</td>\n",
       "    </tr>\n",
       "    <tr>\n",
       "      <th id=\"T_3c98e_level0_row4\" class=\"row_heading level0 row4\" >4</th>\n",
       "      <td id=\"T_3c98e_row4_col0\" class=\"data row4 col0\" >0.8051</td>\n",
       "      <td id=\"T_3c98e_row4_col1\" class=\"data row4 col1\" >0.8920</td>\n",
       "      <td id=\"T_3c98e_row4_col2\" class=\"data row4 col2\" >0.7904</td>\n",
       "      <td id=\"T_3c98e_row4_col3\" class=\"data row4 col3\" >0.8144</td>\n",
       "      <td id=\"T_3c98e_row4_col4\" class=\"data row4 col4\" >0.8022</td>\n",
       "      <td id=\"T_3c98e_row4_col5\" class=\"data row4 col5\" >0.6103</td>\n",
       "      <td id=\"T_3c98e_row4_col6\" class=\"data row4 col6\" >0.6105</td>\n",
       "    </tr>\n",
       "    <tr>\n",
       "      <th id=\"T_3c98e_level0_row5\" class=\"row_heading level0 row5\" >Mean</th>\n",
       "      <td id=\"T_3c98e_row5_col0\" class=\"data row5 col0\" >0.7921</td>\n",
       "      <td id=\"T_3c98e_row5_col1\" class=\"data row5 col1\" >0.8731</td>\n",
       "      <td id=\"T_3c98e_row5_col2\" class=\"data row5 col2\" >0.7803</td>\n",
       "      <td id=\"T_3c98e_row5_col3\" class=\"data row5 col3\" >0.7981</td>\n",
       "      <td id=\"T_3c98e_row5_col4\" class=\"data row5 col4\" >0.7885</td>\n",
       "      <td id=\"T_3c98e_row5_col5\" class=\"data row5 col5\" >0.5843</td>\n",
       "      <td id=\"T_3c98e_row5_col6\" class=\"data row5 col6\" >0.5851</td>\n",
       "    </tr>\n",
       "    <tr>\n",
       "      <th id=\"T_3c98e_level0_row6\" class=\"row_heading level0 row6\" >Std</th>\n",
       "      <td id=\"T_3c98e_row6_col0\" class=\"data row6 col0\" >0.0381</td>\n",
       "      <td id=\"T_3c98e_row6_col1\" class=\"data row6 col1\" >0.0472</td>\n",
       "      <td id=\"T_3c98e_row6_col2\" class=\"data row6 col2\" >0.0629</td>\n",
       "      <td id=\"T_3c98e_row6_col3\" class=\"data row6 col3\" >0.0277</td>\n",
       "      <td id=\"T_3c98e_row6_col4\" class=\"data row6 col4\" >0.0451</td>\n",
       "      <td id=\"T_3c98e_row6_col5\" class=\"data row6 col5\" >0.0761</td>\n",
       "      <td id=\"T_3c98e_row6_col6\" class=\"data row6 col6\" >0.0751</td>\n",
       "    </tr>\n",
       "  </tbody>\n",
       "</table>\n"
      ],
      "text/plain": [
       "<pandas.io.formats.style.Styler at 0x25920a53700>"
      ]
     },
     "metadata": {},
     "output_type": "display_data"
    },
    {
     "data": {
      "text/html": [],
      "text/plain": [
       "<IPython.core.display.HTML object>"
      ]
     },
     "metadata": {},
     "output_type": "display_data"
    },
    {
     "data": {
      "application/vnd.jupyter.widget-view+json": {
       "model_id": "abe4efc7745f4d1ebf463091d5b38df7",
       "version_major": 2,
       "version_minor": 0
      },
      "text/plain": [
       "interactive(children=(ToggleButtons(description='Plot Type:', icons=('',), options=(('Pipeline Plot', 'pipelin…"
      ]
     },
     "metadata": {},
     "output_type": "display_data"
    }
   ],
   "source": [
    "mlp = MLPClassifier(hidden_layer_sizes=[5,5,5], activation='tanh', random_state=420, max_iter=300)\n",
    "nn = create_model(mlp)\n",
    "\n",
    "#calibrated_nn = calibrate_model(nn)\n",
    "\n",
    "evaluate_model(nn)"
   ]
  },
  {
   "cell_type": "code",
   "execution_count": 15,
   "metadata": {},
   "outputs": [
    {
     "data": {
      "text/html": [],
      "text/plain": [
       "<IPython.core.display.HTML object>"
      ]
     },
     "metadata": {},
     "output_type": "display_data"
    },
    {
     "data": {
      "image/png": "[encoded data removed]",
      "text/plain": [
       "<Figure size 432x288 with 1 Axes>"
      ]
     },
     "metadata": {
      "needs_background": "light"
     },
     "output_type": "display_data"
    }
   ],
   "source": [
    "plot_model(nn,plot='auc',use_train_data=True)"
   ]
  },
  {
   "cell_type": "code",
   "execution_count": null,
   "metadata": {},
   "outputs": [],
   "source": []
  }
 ],
 "metadata": {
  "kernelspec": {
   "display_name": "Python 3",
   "language": "python",
   "name": "python3"
  },
  "language_info": {
   "codemirror_mode": {
    "name": "ipython",
    "version": 3
   },
   "file_extension": ".py",
   "mimetype": "text/x-python",
   "name": "python",
   "nbconvert_exporter": "python",
   "pygments_lexer": "ipython3",
   "version": "3.9.7"
  },
  "orig_nbformat": 4
 },
 "nbformat": 4,
 "nbformat_minor": 2
}
