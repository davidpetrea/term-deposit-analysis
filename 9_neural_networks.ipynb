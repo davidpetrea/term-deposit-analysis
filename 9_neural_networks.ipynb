{
 "cells": [
  {
   "cell_type": "code",
   "execution_count": 1,
   "metadata": {},
   "outputs": [],
   "source": [
    "import pandas as pd\n",
    "import numpy as np\n",
    "from sklearn.neural_network import MLPClassifier\n",
    "\n",
    "data = pd.read_csv('data/model_data.csv')\n",
    "\n",
    "X_train = pd.read_csv('data/X_train_transformed.csv')\n",
    "X_test = pd.read_csv('data/X_test_transformed.csv')\n",
    "y_train = pd.read_csv('data/y_train_transformed.csv')\n",
    "y_test = pd.read_csv('data/y_test_transformed.csv')\n",
    "X_train_notarget = pd.read_csv('data/X_train_transformed.csv')\n",
    "X_test_notarget = pd.read_csv('data/X_test_transformed.csv')\n",
    "#this step is necessary because we are using the already splot data inside the pycaret setup, and indexes must not overlap on the train and test data sets\n",
    "\n",
    "#combine balanced train data back into a single df\n",
    "X_train['subscribed'] = y_train\n",
    "train_data = X_train\n",
    "\n",
    "#combine test data back into a single df\n",
    "X_test['subscribed'] = y_test\n",
    "test_data = X_test.set_index( np.arange(len(X_train), len(X_train)+len(X_test)))"
   ]
  },
  {
   "cell_type": "code",
   "execution_count": null,
   "metadata": {},
   "outputs": [],
   "source": [
    "\n",
    "from sklearn.metrics import RocCurveDisplay,roc_auc_score, f1_score,accuracy_score,confusion_matrix,classification_report,roc_curve\n",
    "from sklearn.calibration import CalibratedClassifierCV\n",
    "clf = MLPClassifier(hidden_layer_sizes=[20,15,10], activation='tanh', random_state=420, max_iter=300).fit(X_train, y_train)\n",
    "\n",
    "#Classes are ordered [0,1]\n",
    "y_pred = clf.predict_proba(X_test)\n",
    "y_pred = [i[1] for i in y_pred]\n",
    "y_score = y_pred\n",
    "y_pred = pd.Series(list(np.where(np.array(y_pred) > 0.5, 1, 0 ))) \n",
    "\n",
    "report = classification_report(y_test, y_pred)\n",
    "print(report)\n",
    "import scikitplot as skplt\n",
    "import matplotlib.pyplot as plt\n",
    "\n",
    "\n",
    "#Plot AOC Curves\n",
    "y_probas = clf.predict_proba(X_test)\n",
    "skplt.metrics.plot_roc_curve(y_test, y_probas)\n",
    "plt.show()"
   ]
  },
  {
   "cell_type": "code",
   "execution_count": 2,
   "metadata": {},
   "outputs": [
    {
     "data": {
      "text/html": [
       "<style type=\"text/css\">\n",
       "#T_83198_row8_col1 {\n",
       "  background-color: lightgreen;\n",
       "}\n",
       "</style>\n",
       "<table id=\"T_83198_\">\n",
       "  <thead>\n",
       "    <tr>\n",
       "      <th class=\"blank level0\" >&nbsp;</th>\n",
       "      <th class=\"col_heading level0 col0\" >Description</th>\n",
       "      <th class=\"col_heading level0 col1\" >Value</th>\n",
       "    </tr>\n",
       "  </thead>\n",
       "  <tbody>\n",
       "    <tr>\n",
       "      <th id=\"T_83198_level0_row0\" class=\"row_heading level0 row0\" >0</th>\n",
       "      <td id=\"T_83198_row0_col0\" class=\"data row0 col0\" >Session id</td>\n",
       "      <td id=\"T_83198_row0_col1\" class=\"data row0 col1\" >420</td>\n",
       "    </tr>\n",
       "    <tr>\n",
       "      <th id=\"T_83198_level0_row1\" class=\"row_heading level0 row1\" >1</th>\n",
       "      <td id=\"T_83198_row1_col0\" class=\"data row1 col0\" >Target</td>\n",
       "      <td id=\"T_83198_row1_col1\" class=\"data row1 col1\" >subscribed</td>\n",
       "    </tr>\n",
       "    <tr>\n",
       "      <th id=\"T_83198_level0_row2\" class=\"row_heading level0 row2\" >2</th>\n",
       "      <td id=\"T_83198_row2_col0\" class=\"data row2 col0\" >Target type</td>\n",
       "      <td id=\"T_83198_row2_col1\" class=\"data row2 col1\" >Binary</td>\n",
       "    </tr>\n",
       "    <tr>\n",
       "      <th id=\"T_83198_level0_row3\" class=\"row_heading level0 row3\" >3</th>\n",
       "      <td id=\"T_83198_row3_col0\" class=\"data row3 col0\" >Original data shape</td>\n",
       "      <td id=\"T_83198_row3_col1\" class=\"data row3 col1\" >(63546, 54)</td>\n",
       "    </tr>\n",
       "    <tr>\n",
       "      <th id=\"T_83198_level0_row4\" class=\"row_heading level0 row4\" >4</th>\n",
       "      <td id=\"T_83198_row4_col0\" class=\"data row4 col0\" >Transformed data shape</td>\n",
       "      <td id=\"T_83198_row4_col1\" class=\"data row4 col1\" >(63546, 54)</td>\n",
       "    </tr>\n",
       "    <tr>\n",
       "      <th id=\"T_83198_level0_row5\" class=\"row_heading level0 row5\" >5</th>\n",
       "      <td id=\"T_83198_row5_col0\" class=\"data row5 col0\" >Transformed train set shape</td>\n",
       "      <td id=\"T_83198_row5_col1\" class=\"data row5 col1\" >(51190, 54)</td>\n",
       "    </tr>\n",
       "    <tr>\n",
       "      <th id=\"T_83198_level0_row6\" class=\"row_heading level0 row6\" >6</th>\n",
       "      <td id=\"T_83198_row6_col0\" class=\"data row6 col0\" >Transformed test set shape</td>\n",
       "      <td id=\"T_83198_row6_col1\" class=\"data row6 col1\" >(12356, 54)</td>\n",
       "    </tr>\n",
       "    <tr>\n",
       "      <th id=\"T_83198_level0_row7\" class=\"row_heading level0 row7\" >7</th>\n",
       "      <td id=\"T_83198_row7_col0\" class=\"data row7 col0\" >Numeric features</td>\n",
       "      <td id=\"T_83198_row7_col1\" class=\"data row7 col1\" >53</td>\n",
       "    </tr>\n",
       "    <tr>\n",
       "      <th id=\"T_83198_level0_row8\" class=\"row_heading level0 row8\" >8</th>\n",
       "      <td id=\"T_83198_row8_col0\" class=\"data row8 col0\" >Preprocess</td>\n",
       "      <td id=\"T_83198_row8_col1\" class=\"data row8 col1\" >True</td>\n",
       "    </tr>\n",
       "    <tr>\n",
       "      <th id=\"T_83198_level0_row9\" class=\"row_heading level0 row9\" >9</th>\n",
       "      <td id=\"T_83198_row9_col0\" class=\"data row9 col0\" >Imputation type</td>\n",
       "      <td id=\"T_83198_row9_col1\" class=\"data row9 col1\" >simple</td>\n",
       "    </tr>\n",
       "    <tr>\n",
       "      <th id=\"T_83198_level0_row10\" class=\"row_heading level0 row10\" >10</th>\n",
       "      <td id=\"T_83198_row10_col0\" class=\"data row10 col0\" >Numeric imputation</td>\n",
       "      <td id=\"T_83198_row10_col1\" class=\"data row10 col1\" >mean</td>\n",
       "    </tr>\n",
       "    <tr>\n",
       "      <th id=\"T_83198_level0_row11\" class=\"row_heading level0 row11\" >11</th>\n",
       "      <td id=\"T_83198_row11_col0\" class=\"data row11 col0\" >Categorical imputation</td>\n",
       "      <td id=\"T_83198_row11_col1\" class=\"data row11 col1\" >mode</td>\n",
       "    </tr>\n",
       "    <tr>\n",
       "      <th id=\"T_83198_level0_row12\" class=\"row_heading level0 row12\" >12</th>\n",
       "      <td id=\"T_83198_row12_col0\" class=\"data row12 col0\" >Fold Generator</td>\n",
       "      <td id=\"T_83198_row12_col1\" class=\"data row12 col1\" >StratifiedKFold</td>\n",
       "    </tr>\n",
       "    <tr>\n",
       "      <th id=\"T_83198_level0_row13\" class=\"row_heading level0 row13\" >13</th>\n",
       "      <td id=\"T_83198_row13_col0\" class=\"data row13 col0\" >Fold Number</td>\n",
       "      <td id=\"T_83198_row13_col1\" class=\"data row13 col1\" >10</td>\n",
       "    </tr>\n",
       "    <tr>\n",
       "      <th id=\"T_83198_level0_row14\" class=\"row_heading level0 row14\" >14</th>\n",
       "      <td id=\"T_83198_row14_col0\" class=\"data row14 col0\" >CPU Jobs</td>\n",
       "      <td id=\"T_83198_row14_col1\" class=\"data row14 col1\" >-1</td>\n",
       "    </tr>\n",
       "    <tr>\n",
       "      <th id=\"T_83198_level0_row15\" class=\"row_heading level0 row15\" >15</th>\n",
       "      <td id=\"T_83198_row15_col0\" class=\"data row15 col0\" >Use GPU</td>\n",
       "      <td id=\"T_83198_row15_col1\" class=\"data row15 col1\" >False</td>\n",
       "    </tr>\n",
       "    <tr>\n",
       "      <th id=\"T_83198_level0_row16\" class=\"row_heading level0 row16\" >16</th>\n",
       "      <td id=\"T_83198_row16_col0\" class=\"data row16 col0\" >Log Experiment</td>\n",
       "      <td id=\"T_83198_row16_col1\" class=\"data row16 col1\" >False</td>\n",
       "    </tr>\n",
       "    <tr>\n",
       "      <th id=\"T_83198_level0_row17\" class=\"row_heading level0 row17\" >17</th>\n",
       "      <td id=\"T_83198_row17_col0\" class=\"data row17 col0\" >Experiment Name</td>\n",
       "      <td id=\"T_83198_row17_col1\" class=\"data row17 col1\" >clf-default-name</td>\n",
       "    </tr>\n",
       "    <tr>\n",
       "      <th id=\"T_83198_level0_row18\" class=\"row_heading level0 row18\" >18</th>\n",
       "      <td id=\"T_83198_row18_col0\" class=\"data row18 col0\" >USI</td>\n",
       "      <td id=\"T_83198_row18_col1\" class=\"data row18 col1\" >24d9</td>\n",
       "    </tr>\n",
       "  </tbody>\n",
       "</table>\n"
      ],
      "text/plain": [
       "<pandas.io.formats.style.Styler at 0x1ecebd992e0>"
      ]
     },
     "metadata": {},
     "output_type": "display_data"
    }
   ],
   "source": [
    "from pycaret.classification import *\n",
    "s = (setup(data=train_data,\n",
    "           test_data=test_data,\n",
    "            target = 'subscribed',\n",
    "            session_id = 420,\n",
    "            fold=10,\n",
    "            ))"
   ]
  },
  {
   "cell_type": "code",
   "execution_count": 4,
   "metadata": {},
   "outputs": [
    {
     "data": {
      "text/html": [],
      "text/plain": [
       "<IPython.core.display.HTML object>"
      ]
     },
     "metadata": {},
     "output_type": "display_data"
    },
    {
     "data": {
      "text/html": [
       "<style type=\"text/css\">\n",
       "#T_7054e_row10_col0, #T_7054e_row10_col1, #T_7054e_row10_col2, #T_7054e_row10_col3, #T_7054e_row10_col4, #T_7054e_row10_col5, #T_7054e_row10_col6 {\n",
       "  background: yellow;\n",
       "}\n",
       "</style>\n",
       "<table id=\"T_7054e_\">\n",
       "  <thead>\n",
       "    <tr>\n",
       "      <th class=\"blank level0\" >&nbsp;</th>\n",
       "      <th class=\"col_heading level0 col0\" >Accuracy</th>\n",
       "      <th class=\"col_heading level0 col1\" >AUC</th>\n",
       "      <th class=\"col_heading level0 col2\" >Recall</th>\n",
       "      <th class=\"col_heading level0 col3\" >Prec.</th>\n",
       "      <th class=\"col_heading level0 col4\" >F1</th>\n",
       "      <th class=\"col_heading level0 col5\" >Kappa</th>\n",
       "      <th class=\"col_heading level0 col6\" >MCC</th>\n",
       "    </tr>\n",
       "    <tr>\n",
       "      <th class=\"index_name level0\" >Fold</th>\n",
       "      <th class=\"blank col0\" >&nbsp;</th>\n",
       "      <th class=\"blank col1\" >&nbsp;</th>\n",
       "      <th class=\"blank col2\" >&nbsp;</th>\n",
       "      <th class=\"blank col3\" >&nbsp;</th>\n",
       "      <th class=\"blank col4\" >&nbsp;</th>\n",
       "      <th class=\"blank col5\" >&nbsp;</th>\n",
       "      <th class=\"blank col6\" >&nbsp;</th>\n",
       "    </tr>\n",
       "  </thead>\n",
       "  <tbody>\n",
       "    <tr>\n",
       "      <th id=\"T_7054e_level0_row0\" class=\"row_heading level0 row0\" >0</th>\n",
       "      <td id=\"T_7054e_row0_col0\" class=\"data row0 col0\" >0.7050</td>\n",
       "      <td id=\"T_7054e_row0_col1\" class=\"data row0 col1\" >0.7610</td>\n",
       "      <td id=\"T_7054e_row0_col2\" class=\"data row0 col2\" >0.6096</td>\n",
       "      <td id=\"T_7054e_row0_col3\" class=\"data row0 col3\" >0.7533</td>\n",
       "      <td id=\"T_7054e_row0_col4\" class=\"data row0 col4\" >0.6739</td>\n",
       "      <td id=\"T_7054e_row0_col5\" class=\"data row0 col5\" >0.4100</td>\n",
       "      <td id=\"T_7054e_row0_col6\" class=\"data row0 col6\" >0.4177</td>\n",
       "    </tr>\n",
       "    <tr>\n",
       "      <th id=\"T_7054e_level0_row1\" class=\"row_heading level0 row1\" >1</th>\n",
       "      <td id=\"T_7054e_row1_col0\" class=\"data row1 col0\" >0.7468</td>\n",
       "      <td id=\"T_7054e_row1_col1\" class=\"data row1 col1\" >0.8260</td>\n",
       "      <td id=\"T_7054e_row1_col2\" class=\"data row1 col2\" >0.6831</td>\n",
       "      <td id=\"T_7054e_row1_col3\" class=\"data row1 col3\" >0.7828</td>\n",
       "      <td id=\"T_7054e_row1_col4\" class=\"data row1 col4\" >0.7295</td>\n",
       "      <td id=\"T_7054e_row1_col5\" class=\"data row1 col5\" >0.4936</td>\n",
       "      <td id=\"T_7054e_row1_col6\" class=\"data row1 col6\" >0.4977</td>\n",
       "    </tr>\n",
       "    <tr>\n",
       "      <th id=\"T_7054e_level0_row2\" class=\"row_heading level0 row2\" >2</th>\n",
       "      <td id=\"T_7054e_row2_col0\" class=\"data row2 col0\" >0.7701</td>\n",
       "      <td id=\"T_7054e_row2_col1\" class=\"data row2 col1\" >0.8544</td>\n",
       "      <td id=\"T_7054e_row2_col2\" class=\"data row2 col2\" >0.7249</td>\n",
       "      <td id=\"T_7054e_row2_col3\" class=\"data row2 col3\" >0.7968</td>\n",
       "      <td id=\"T_7054e_row2_col4\" class=\"data row2 col4\" >0.7592</td>\n",
       "      <td id=\"T_7054e_row2_col5\" class=\"data row2 col5\" >0.5401</td>\n",
       "      <td id=\"T_7054e_row2_col6\" class=\"data row2 col6\" >0.5423</td>\n",
       "    </tr>\n",
       "    <tr>\n",
       "      <th id=\"T_7054e_level0_row3\" class=\"row_heading level0 row3\" >3</th>\n",
       "      <td id=\"T_7054e_row3_col0\" class=\"data row3 col0\" >0.7681</td>\n",
       "      <td id=\"T_7054e_row3_col1\" class=\"data row3 col1\" >0.8533</td>\n",
       "      <td id=\"T_7054e_row3_col2\" class=\"data row3 col2\" >0.7194</td>\n",
       "      <td id=\"T_7054e_row3_col3\" class=\"data row3 col3\" >0.7970</td>\n",
       "      <td id=\"T_7054e_row3_col4\" class=\"data row3 col4\" >0.7562</td>\n",
       "      <td id=\"T_7054e_row3_col5\" class=\"data row3 col5\" >0.5362</td>\n",
       "      <td id=\"T_7054e_row3_col6\" class=\"data row3 col6\" >0.5388</td>\n",
       "    </tr>\n",
       "    <tr>\n",
       "      <th id=\"T_7054e_level0_row4\" class=\"row_heading level0 row4\" >4</th>\n",
       "      <td id=\"T_7054e_row4_col0\" class=\"data row4 col0\" >0.7621</td>\n",
       "      <td id=\"T_7054e_row4_col1\" class=\"data row4 col1\" >0.8515</td>\n",
       "      <td id=\"T_7054e_row4_col2\" class=\"data row4 col2\" >0.7061</td>\n",
       "      <td id=\"T_7054e_row4_col3\" class=\"data row4 col3\" >0.7950</td>\n",
       "      <td id=\"T_7054e_row4_col4\" class=\"data row4 col4\" >0.7479</td>\n",
       "      <td id=\"T_7054e_row4_col5\" class=\"data row4 col5\" >0.5241</td>\n",
       "      <td id=\"T_7054e_row4_col6\" class=\"data row4 col6\" >0.5274</td>\n",
       "    </tr>\n",
       "    <tr>\n",
       "      <th id=\"T_7054e_level0_row5\" class=\"row_heading level0 row5\" >5</th>\n",
       "      <td id=\"T_7054e_row5_col0\" class=\"data row5 col0\" >0.7693</td>\n",
       "      <td id=\"T_7054e_row5_col1\" class=\"data row5 col1\" >0.8503</td>\n",
       "      <td id=\"T_7054e_row5_col2\" class=\"data row5 col2\" >0.7172</td>\n",
       "      <td id=\"T_7054e_row5_col3\" class=\"data row5 col3\" >0.8007</td>\n",
       "      <td id=\"T_7054e_row5_col4\" class=\"data row5 col4\" >0.7566</td>\n",
       "      <td id=\"T_7054e_row5_col5\" class=\"data row5 col5\" >0.5386</td>\n",
       "      <td id=\"T_7054e_row5_col6\" class=\"data row5 col6\" >0.5415</td>\n",
       "    </tr>\n",
       "    <tr>\n",
       "      <th id=\"T_7054e_level0_row6\" class=\"row_heading level0 row6\" >6</th>\n",
       "      <td id=\"T_7054e_row6_col0\" class=\"data row6 col0\" >0.7544</td>\n",
       "      <td id=\"T_7054e_row6_col1\" class=\"data row6 col1\" >0.8449</td>\n",
       "      <td id=\"T_7054e_row6_col2\" class=\"data row6 col2\" >0.7070</td>\n",
       "      <td id=\"T_7054e_row6_col3\" class=\"data row6 col3\" >0.7812</td>\n",
       "      <td id=\"T_7054e_row6_col4\" class=\"data row6 col4\" >0.7423</td>\n",
       "      <td id=\"T_7054e_row6_col5\" class=\"data row6 col5\" >0.5089</td>\n",
       "      <td id=\"T_7054e_row6_col6\" class=\"data row6 col6\" >0.5112</td>\n",
       "    </tr>\n",
       "    <tr>\n",
       "      <th id=\"T_7054e_level0_row7\" class=\"row_heading level0 row7\" >7</th>\n",
       "      <td id=\"T_7054e_row7_col0\" class=\"data row7 col0\" >0.7748</td>\n",
       "      <td id=\"T_7054e_row7_col1\" class=\"data row7 col1\" >0.8591</td>\n",
       "      <td id=\"T_7054e_row7_col2\" class=\"data row7 col2\" >0.7152</td>\n",
       "      <td id=\"T_7054e_row7_col3\" class=\"data row7 col3\" >0.8120</td>\n",
       "      <td id=\"T_7054e_row7_col4\" class=\"data row7 col4\" >0.7605</td>\n",
       "      <td id=\"T_7054e_row7_col5\" class=\"data row7 col5\" >0.5495</td>\n",
       "      <td id=\"T_7054e_row7_col6\" class=\"data row7 col6\" >0.5535</td>\n",
       "    </tr>\n",
       "    <tr>\n",
       "      <th id=\"T_7054e_level0_row8\" class=\"row_heading level0 row8\" >8</th>\n",
       "      <td id=\"T_7054e_row8_col0\" class=\"data row8 col0\" >0.7591</td>\n",
       "      <td id=\"T_7054e_row8_col1\" class=\"data row8 col1\" >0.8374</td>\n",
       "      <td id=\"T_7054e_row8_col2\" class=\"data row8 col2\" >0.7039</td>\n",
       "      <td id=\"T_7054e_row8_col3\" class=\"data row8 col3\" >0.7914</td>\n",
       "      <td id=\"T_7054e_row8_col4\" class=\"data row8 col4\" >0.7451</td>\n",
       "      <td id=\"T_7054e_row8_col5\" class=\"data row8 col5\" >0.5183</td>\n",
       "      <td id=\"T_7054e_row8_col6\" class=\"data row8 col6\" >0.5215</td>\n",
       "    </tr>\n",
       "    <tr>\n",
       "      <th id=\"T_7054e_level0_row9\" class=\"row_heading level0 row9\" >9</th>\n",
       "      <td id=\"T_7054e_row9_col0\" class=\"data row9 col0\" >0.7669</td>\n",
       "      <td id=\"T_7054e_row9_col1\" class=\"data row9 col1\" >0.8509</td>\n",
       "      <td id=\"T_7054e_row9_col2\" class=\"data row9 col2\" >0.7312</td>\n",
       "      <td id=\"T_7054e_row9_col3\" class=\"data row9 col3\" >0.7875</td>\n",
       "      <td id=\"T_7054e_row9_col4\" class=\"data row9 col4\" >0.7584</td>\n",
       "      <td id=\"T_7054e_row9_col5\" class=\"data row9 col5\" >0.5339</td>\n",
       "      <td id=\"T_7054e_row9_col6\" class=\"data row9 col6\" >0.5353</td>\n",
       "    </tr>\n",
       "    <tr>\n",
       "      <th id=\"T_7054e_level0_row10\" class=\"row_heading level0 row10\" >Mean</th>\n",
       "      <td id=\"T_7054e_row10_col0\" class=\"data row10 col0\" >0.7577</td>\n",
       "      <td id=\"T_7054e_row10_col1\" class=\"data row10 col1\" >0.8389</td>\n",
       "      <td id=\"T_7054e_row10_col2\" class=\"data row10 col2\" >0.7018</td>\n",
       "      <td id=\"T_7054e_row10_col3\" class=\"data row10 col3\" >0.7898</td>\n",
       "      <td id=\"T_7054e_row10_col4\" class=\"data row10 col4\" >0.7430</td>\n",
       "      <td id=\"T_7054e_row10_col5\" class=\"data row10 col5\" >0.5153</td>\n",
       "      <td id=\"T_7054e_row10_col6\" class=\"data row10 col6\" >0.5187</td>\n",
       "    </tr>\n",
       "    <tr>\n",
       "      <th id=\"T_7054e_level0_row11\" class=\"row_heading level0 row11\" >Std</th>\n",
       "      <td id=\"T_7054e_row11_col0\" class=\"data row11 col0\" >0.0192</td>\n",
       "      <td id=\"T_7054e_row11_col1\" class=\"data row11 col1\" >0.0275</td>\n",
       "      <td id=\"T_7054e_row11_col2\" class=\"data row11 col2\" >0.0332</td>\n",
       "      <td id=\"T_7054e_row11_col3\" class=\"data row11 col3\" >0.0148</td>\n",
       "      <td id=\"T_7054e_row11_col4\" class=\"data row11 col4\" >0.0248</td>\n",
       "      <td id=\"T_7054e_row11_col5\" class=\"data row11 col5\" >0.0385</td>\n",
       "      <td id=\"T_7054e_row11_col6\" class=\"data row11 col6\" >0.0371</td>\n",
       "    </tr>\n",
       "  </tbody>\n",
       "</table>\n"
      ],
      "text/plain": [
       "<pandas.io.formats.style.Styler at 0x1ecebc521c0>"
      ]
     },
     "metadata": {},
     "output_type": "display_data"
    },
    {
     "data": {
      "text/html": [],
      "text/plain": [
       "<IPython.core.display.HTML object>"
      ]
     },
     "metadata": {},
     "output_type": "display_data"
    }
   ],
   "source": [
    "mlp = MLPClassifier(hidden_layer_sizes=[34], solver='adam', activation='relu', random_state=420, max_iter=64, batch_size=17064)\n",
    "\n",
    "nn = create_model(mlp)\n",
    "\n",
    "#evaluate_model(nn)"
   ]
  },
  {
   "cell_type": "code",
   "execution_count": 24,
   "metadata": {},
   "outputs": [
    {
     "ename": "ValueError",
     "evalue": "y should be a 1d array, got an array of shape (12356, 2) instead.",
     "output_type": "error",
     "traceback": [
      "\u001b[1;31m---------------------------------------------------------------------------\u001b[0m",
      "\u001b[1;31mValueError\u001b[0m                                Traceback (most recent call last)",
      "\u001b[1;32m~\\AppData\\Local\\Temp\\ipykernel_24260\\1384611515.py\u001b[0m in \u001b[0;36m<module>\u001b[1;34m\u001b[0m\n\u001b[0;32m     18\u001b[0m \u001b[1;32mfrom\u001b[0m \u001b[0mnumpy\u001b[0m \u001b[1;32mimport\u001b[0m \u001b[0margmax\u001b[0m\u001b[1;33m\u001b[0m\u001b[1;33m\u001b[0m\u001b[0m\n\u001b[0;32m     19\u001b[0m \u001b[1;33m\u001b[0m\u001b[0m\n\u001b[1;32m---> 20\u001b[1;33m \u001b[0mfpr\u001b[0m\u001b[1;33m,\u001b[0m \u001b[0mtpr\u001b[0m\u001b[1;33m,\u001b[0m \u001b[0mthresholds\u001b[0m \u001b[1;33m=\u001b[0m \u001b[0mroc_curve\u001b[0m\u001b[1;33m(\u001b[0m\u001b[0my_test\u001b[0m\u001b[1;33m,\u001b[0m\u001b[0my_probas\u001b[0m\u001b[1;33m)\u001b[0m\u001b[1;33m\u001b[0m\u001b[1;33m\u001b[0m\u001b[0m\n\u001b[0m\u001b[0;32m     21\u001b[0m \u001b[1;33m\u001b[0m\u001b[0m\n\u001b[0;32m     22\u001b[0m \u001b[1;31m# get the best threshold\u001b[0m\u001b[1;33m\u001b[0m\u001b[1;33m\u001b[0m\u001b[0m\n",
      "\u001b[1;32m~\\AppData\\Roaming\\Python\\Python39\\site-packages\\sklearn\\metrics\\_ranking.py\u001b[0m in \u001b[0;36mroc_curve\u001b[1;34m(y_true, y_score, pos_label, sample_weight, drop_intermediate)\u001b[0m\n\u001b[0;32m    976\u001b[0m \u001b[1;33m\u001b[0m\u001b[0m\n\u001b[0;32m    977\u001b[0m     \"\"\"\n\u001b[1;32m--> 978\u001b[1;33m     fps, tps, thresholds = _binary_clf_curve(\n\u001b[0m\u001b[0;32m    979\u001b[0m         \u001b[0my_true\u001b[0m\u001b[1;33m,\u001b[0m \u001b[0my_score\u001b[0m\u001b[1;33m,\u001b[0m \u001b[0mpos_label\u001b[0m\u001b[1;33m=\u001b[0m\u001b[0mpos_label\u001b[0m\u001b[1;33m,\u001b[0m \u001b[0msample_weight\u001b[0m\u001b[1;33m=\u001b[0m\u001b[0msample_weight\u001b[0m\u001b[1;33m\u001b[0m\u001b[1;33m\u001b[0m\u001b[0m\n\u001b[0;32m    980\u001b[0m     )\n",
      "\u001b[1;32m~\\AppData\\Roaming\\Python\\Python39\\site-packages\\sklearn\\metrics\\_ranking.py\u001b[0m in \u001b[0;36m_binary_clf_curve\u001b[1;34m(y_true, y_score, pos_label, sample_weight)\u001b[0m\n\u001b[0;32m    740\u001b[0m     \u001b[0mcheck_consistent_length\u001b[0m\u001b[1;33m(\u001b[0m\u001b[0my_true\u001b[0m\u001b[1;33m,\u001b[0m \u001b[0my_score\u001b[0m\u001b[1;33m,\u001b[0m \u001b[0msample_weight\u001b[0m\u001b[1;33m)\u001b[0m\u001b[1;33m\u001b[0m\u001b[1;33m\u001b[0m\u001b[0m\n\u001b[0;32m    741\u001b[0m     \u001b[0my_true\u001b[0m \u001b[1;33m=\u001b[0m \u001b[0mcolumn_or_1d\u001b[0m\u001b[1;33m(\u001b[0m\u001b[0my_true\u001b[0m\u001b[1;33m)\u001b[0m\u001b[1;33m\u001b[0m\u001b[1;33m\u001b[0m\u001b[0m\n\u001b[1;32m--> 742\u001b[1;33m     \u001b[0my_score\u001b[0m \u001b[1;33m=\u001b[0m \u001b[0mcolumn_or_1d\u001b[0m\u001b[1;33m(\u001b[0m\u001b[0my_score\u001b[0m\u001b[1;33m)\u001b[0m\u001b[1;33m\u001b[0m\u001b[1;33m\u001b[0m\u001b[0m\n\u001b[0m\u001b[0;32m    743\u001b[0m     \u001b[0massert_all_finite\u001b[0m\u001b[1;33m(\u001b[0m\u001b[0my_true\u001b[0m\u001b[1;33m)\u001b[0m\u001b[1;33m\u001b[0m\u001b[1;33m\u001b[0m\u001b[0m\n\u001b[0;32m    744\u001b[0m     \u001b[0massert_all_finite\u001b[0m\u001b[1;33m(\u001b[0m\u001b[0my_score\u001b[0m\u001b[1;33m)\u001b[0m\u001b[1;33m\u001b[0m\u001b[1;33m\u001b[0m\u001b[0m\n",
      "\u001b[1;32m~\\AppData\\Roaming\\Python\\Python39\\site-packages\\sklearn\\utils\\validation.py\u001b[0m in \u001b[0;36mcolumn_or_1d\u001b[1;34m(y, warn)\u001b[0m\n\u001b[0;32m   1150\u001b[0m         \u001b[1;32mreturn\u001b[0m \u001b[0mnp\u001b[0m\u001b[1;33m.\u001b[0m\u001b[0mravel\u001b[0m\u001b[1;33m(\u001b[0m\u001b[0my\u001b[0m\u001b[1;33m)\u001b[0m\u001b[1;33m\u001b[0m\u001b[1;33m\u001b[0m\u001b[0m\n\u001b[0;32m   1151\u001b[0m \u001b[1;33m\u001b[0m\u001b[0m\n\u001b[1;32m-> 1152\u001b[1;33m     raise ValueError(\n\u001b[0m\u001b[0;32m   1153\u001b[0m         \u001b[1;34m\"y should be a 1d array, got an array of shape {} instead.\"\u001b[0m\u001b[1;33m.\u001b[0m\u001b[0mformat\u001b[0m\u001b[1;33m(\u001b[0m\u001b[0mshape\u001b[0m\u001b[1;33m)\u001b[0m\u001b[1;33m\u001b[0m\u001b[1;33m\u001b[0m\u001b[0m\n\u001b[0;32m   1154\u001b[0m     )\n",
      "\u001b[1;31mValueError\u001b[0m: y should be a 1d array, got an array of shape (12356, 2) instead."
     ]
    }
   ],
   "source": [
    "#Classes are ordered [0,1]\n",
    "y_pred = nn.predict_proba(X_test_notarget)\n",
    "y_pred = [i[1] for i in y_pred]\n",
    "y_score = y_pred\n",
    "y_pred = pd.Series(list(np.where(np.array(y_pred) > 0.5, 1, 0 ))) \n",
    "\n",
    "import scikitplot as skplt\n",
    "import matplotlib.pyplot as plt\n",
    "from sklearn.metrics import roc_curve\n",
    "\n",
    "#Plot AOC Curves\n",
    "y_probas = nn.predict_proba(X_test_notarget)\n",
    "# skplt.metrics.plot_roc_curve(y_test, y_probas)\n",
    "# plt.show()\n",
    "\n"
   ]
  },
  {
   "cell_type": "code",
   "execution_count": 9,
   "metadata": {},
   "outputs": [
    {
     "data": {
      "text/html": [],
      "text/plain": [
       "<IPython.core.display.HTML object>"
      ]
     },
     "metadata": {},
     "output_type": "display_data"
    }
   ],
   "source": [
    "pred_holdout = predict_model(nn, probability_threshold=0.478) \n"
   ]
  },
  {
   "cell_type": "code",
   "execution_count": 10,
   "metadata": {},
   "outputs": [
    {
     "data": {
      "text/plain": [
       "array([0.61637088, 0.68275742, 0.17093152, ..., 0.18317915, 0.50047578,\n",
       "       0.35858335])"
      ]
     },
     "execution_count": 10,
     "metadata": {},
     "output_type": "execute_result"
    }
   ],
   "source": [
    "probas = nn.predict_proba(X_test.loc[:, X_test.columns != 'subscribed'])[:,1]\n",
    "probas"
   ]
  },
  {
   "cell_type": "code",
   "execution_count": 11,
   "metadata": {},
   "outputs": [
    {
     "name": "stdout",
     "output_type": "stream",
     "text": [
      "Best Threshold=0.521943\n"
     ]
    }
   ],
   "source": [
    "\n",
    "y_true = pred_holdout['subscribed']\n",
    "y_pred = pred_holdout['prediction_label']\n",
    "predicts = pred_holdout['prediction_score']\n",
    "\n",
    "from sklearn.metrics import roc_curve\n",
    "\n",
    "from numpy import argmax\n",
    "\n",
    "fpr, tpr, thresholds = roc_curve(y_true,probas)\n",
    "\n",
    "# get the best threshold\n",
    "J = tpr - fpr\n",
    "ix = argmax(J)\n",
    "best_thresh = thresholds[ix]\n",
    "print('Best Threshold=%f' % (best_thresh))\n",
    "\n"
   ]
  },
  {
   "cell_type": "code",
   "execution_count": 4,
   "metadata": {},
   "outputs": [
    {
     "data": {
      "text/html": [],
      "text/plain": [
       "<IPython.core.display.HTML object>"
      ]
     },
     "metadata": {},
     "output_type": "display_data"
    },
    {
     "data": {
      "image/png": "[encoded data removed]",
      "text/plain": [
       "<Figure size 432x288 with 1 Axes>"
      ]
     },
     "metadata": {
      "needs_background": "light"
     },
     "output_type": "display_data"
    }
   ],
   "source": [
    "plot_model(nn,plot='auc')"
   ]
  },
  {
   "cell_type": "code",
   "execution_count": 12,
   "metadata": {},
   "outputs": [
    {
     "data": {
      "image/png": "[encoded data removed]",
      "text/plain": [
       "<Figure size 432x288 with 2 Axes>"
      ]
     },
     "metadata": {
      "needs_background": "light"
     },
     "output_type": "display_data"
    },
    {
     "data": {
      "text/plain": [
       "array([[8572, 2378],\n",
       "       [ 493,  913]], dtype=int64)"
      ]
     },
     "execution_count": 12,
     "metadata": {},
     "output_type": "execute_result"
    }
   ],
   "source": [
    "from sklearn.metrics import confusion_matrix,ConfusionMatrixDisplay\n",
    "import matplotlib.pyplot as plt\n",
    "cm = confusion_matrix(pred_holdout['subscribed'], pred_holdout['prediction_label'])\n",
    "disp = ConfusionMatrixDisplay(confusion_matrix=cm,\n",
    "                              display_labels=nn.classes_)\n",
    "\n",
    "disp.plot()\n",
    "\n",
    "plt.show()\n",
    "\n",
    "cm\n",
    "\n"
   ]
  },
  {
   "cell_type": "code",
   "execution_count": 5,
   "metadata": {},
   "outputs": [
    {
     "data": {
      "text/html": [
       "<style type=\"text/css\">\n",
       "</style>\n",
       "<table id=\"T_92f88_\">\n",
       "  <thead>\n",
       "    <tr>\n",
       "      <th class=\"blank level0\" >&nbsp;</th>\n",
       "      <th class=\"col_heading level0 col0\" >Model</th>\n",
       "      <th class=\"col_heading level0 col1\" >Accuracy</th>\n",
       "      <th class=\"col_heading level0 col2\" >AUC</th>\n",
       "      <th class=\"col_heading level0 col3\" >Recall</th>\n",
       "      <th class=\"col_heading level0 col4\" >Prec.</th>\n",
       "      <th class=\"col_heading level0 col5\" >F1</th>\n",
       "      <th class=\"col_heading level0 col6\" >Kappa</th>\n",
       "      <th class=\"col_heading level0 col7\" >MCC</th>\n",
       "    </tr>\n",
       "  </thead>\n",
       "  <tbody>\n",
       "    <tr>\n",
       "      <th id=\"T_92f88_level0_row0\" class=\"row_heading level0 row0\" >0</th>\n",
       "      <td id=\"T_92f88_row0_col0\" class=\"data row0 col0\" >MLP Classifier</td>\n",
       "      <td id=\"T_92f88_row0_col1\" class=\"data row0 col1\" >0.7914</td>\n",
       "      <td id=\"T_92f88_row0_col2\" class=\"data row0 col2\" >0.7676</td>\n",
       "      <td id=\"T_92f88_row0_col3\" class=\"data row0 col3\" >0.6380</td>\n",
       "      <td id=\"T_92f88_row0_col4\" class=\"data row0 col4\" >0.3025</td>\n",
       "      <td id=\"T_92f88_row0_col5\" class=\"data row0 col5\" >0.4104</td>\n",
       "      <td id=\"T_92f88_row0_col6\" class=\"data row0 col6\" >0.3028</td>\n",
       "      <td id=\"T_92f88_row0_col7\" class=\"data row0 col7\" >0.3340</td>\n",
       "    </tr>\n",
       "  </tbody>\n",
       "</table>\n"
      ],
      "text/plain": [
       "<pandas.io.formats.style.Styler at 0x16aa00224c0>"
      ]
     },
     "metadata": {},
     "output_type": "display_data"
    }
   ],
   "source": [
    "pred_holdout = predict_model(nn, probability_threshold=0.5)"
   ]
  },
  {
   "cell_type": "code",
   "execution_count": null,
   "metadata": {},
   "outputs": [],
   "source": [
    "pred_train = predict_model(nn,data=train_data, probability_threshold=0.5)\n",
    "pred_train"
   ]
  },
  {
   "cell_type": "code",
   "execution_count": null,
   "metadata": {},
   "outputs": [],
   "source": [
    "from sklearn.metrics import confusion_matrix,ConfusionMatrixDisplay\n",
    "import matplotlib.pyplot as plt\n",
    "cm = confusion_matrix(pred_train['subscribed'], pred_train['prediction_label'])\n",
    "disp = ConfusionMatrixDisplay(confusion_matrix=cm,\n",
    "                              display_labels=nn.classes_)\n",
    "\n",
    "disp.plot()\n",
    "\n",
    "plt.show()\n",
    "\n",
    "cm\n",
    "\n"
   ]
  },
  {
   "cell_type": "code",
   "execution_count": null,
   "metadata": {},
   "outputs": [],
   "source": []
  },
  {
   "cell_type": "code",
   "execution_count": null,
   "metadata": {},
   "outputs": [],
   "source": [
    "\n",
    "#SHAP\n",
    "import shap\n",
    "\n",
    "background = X_train_notarget.iloc[np.random.choice(X_train_notarget.shape[0], 100, replace=False)]\n",
    "\n",
    "explainer = shap.KernelExplainer(nn.predict,background)\n",
    "shap_values = explainer.shap_values(X_test_notarget[1:256])\n",
    "\n",
    "\n",
    "#shap.plots.bar(shap_values[0])"
   ]
  },
  {
   "cell_type": "code",
   "execution_count": null,
   "metadata": {},
   "outputs": [],
   "source": [
    "shap.summary_plot(shap_values,feature_names=X_test_notarget.columns.tolist(),features=X_test_notarget[1:256], max_display=15)\n",
    "#shap.decision_plot(base_value=explainer.expected_value,shap_values=shap_values,feature_names=X_test_notarget.columns.tolist())\n",
    "\n",
    "\n"
   ]
  },
  {
   "cell_type": "code",
   "execution_count": 9,
   "metadata": {},
   "outputs": [
    {
     "ename": "AttributeError",
     "evalue": "'DataFrame' object has no attribute 'tolist'",
     "output_type": "error",
     "traceback": [
      "\u001b[1;31m---------------------------------------------------------------------------\u001b[0m",
      "\u001b[1;31mAttributeError\u001b[0m                            Traceback (most recent call last)",
      "\u001b[1;32m~\\AppData\\Local\\Temp\\ipykernel_24260\\3236814025.py\u001b[0m in \u001b[0;36m<module>\u001b[1;34m\u001b[0m\n\u001b[1;32m----> 1\u001b[1;33m \u001b[0my_test\u001b[0m\u001b[1;33m.\u001b[0m\u001b[0mtolist\u001b[0m\u001b[1;33m(\u001b[0m\u001b[1;33m)\u001b[0m\u001b[1;33m\u001b[0m\u001b[1;33m\u001b[0m\u001b[0m\n\u001b[0m",
      "\u001b[1;32mc:\\Program Files\\Python39\\lib\\site-packages\\pandas\\core\\generic.py\u001b[0m in \u001b[0;36m__getattr__\u001b[1;34m(self, name)\u001b[0m\n\u001b[0;32m   5485\u001b[0m         ):\n\u001b[0;32m   5486\u001b[0m             \u001b[1;32mreturn\u001b[0m \u001b[0mself\u001b[0m\u001b[1;33m[\u001b[0m\u001b[0mname\u001b[0m\u001b[1;33m]\u001b[0m\u001b[1;33m\u001b[0m\u001b[1;33m\u001b[0m\u001b[0m\n\u001b[1;32m-> 5487\u001b[1;33m         \u001b[1;32mreturn\u001b[0m \u001b[0mobject\u001b[0m\u001b[1;33m.\u001b[0m\u001b[0m__getattribute__\u001b[0m\u001b[1;33m(\u001b[0m\u001b[0mself\u001b[0m\u001b[1;33m,\u001b[0m \u001b[0mname\u001b[0m\u001b[1;33m)\u001b[0m\u001b[1;33m\u001b[0m\u001b[1;33m\u001b[0m\u001b[0m\n\u001b[0m\u001b[0;32m   5488\u001b[0m \u001b[1;33m\u001b[0m\u001b[0m\n\u001b[0;32m   5489\u001b[0m     \u001b[1;32mdef\u001b[0m \u001b[0m__setattr__\u001b[0m\u001b[1;33m(\u001b[0m\u001b[0mself\u001b[0m\u001b[1;33m,\u001b[0m \u001b[0mname\u001b[0m\u001b[1;33m:\u001b[0m \u001b[0mstr\u001b[0m\u001b[1;33m,\u001b[0m \u001b[0mvalue\u001b[0m\u001b[1;33m)\u001b[0m \u001b[1;33m->\u001b[0m \u001b[1;32mNone\u001b[0m\u001b[1;33m:\u001b[0m\u001b[1;33m\u001b[0m\u001b[1;33m\u001b[0m\u001b[0m\n",
      "\u001b[1;31mAttributeError\u001b[0m: 'DataFrame' object has no attribute 'tolist'"
     ]
    }
   ],
   "source": [
    "y_test"
   ]
  },
  {
   "cell_type": "code",
   "execution_count": 17,
   "metadata": {},
   "outputs": [
    {
     "data": {
      "text/plain": [
       "array([0.38362912, 0.61637088])"
      ]
     },
     "execution_count": 17,
     "metadata": {},
     "output_type": "execute_result"
    }
   ],
   "source": [
    "from sklearn.metrics import roc_curve\n",
    "\n",
    "y_pred = nn.predict_proba(X_test_notarget)\n",
    "\n",
    "#fpr, tpr, threshholds = roc_curve(y_test,y_pred)"
   ]
  }
 ],
 "metadata": {
  "kernelspec": {
   "display_name": "Python 3",
   "language": "python",
   "name": "python3"
  },
  "language_info": {
   "codemirror_mode": {
    "name": "ipython",
    "version": 3
   },
   "file_extension": ".py",
   "mimetype": "text/x-python",
   "name": "python",
   "nbconvert_exporter": "python",
   "pygments_lexer": "ipython3",
   "version": "3.9.7"
  },
  "orig_nbformat": 4
 },
 "nbformat": 4,
 "nbformat_minor": 2
}
